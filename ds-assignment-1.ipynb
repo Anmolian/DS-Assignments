{
 "cells": [
  {
   "cell_type": "code",
   "execution_count": 1,
   "id": "2fcf5fba",
   "metadata": {
    "_cell_guid": "b1076dfc-b9ad-4769-8c92-a6c4dae69d19",
    "_uuid": "8f2839f25d086af736a60e9eeb907d3b93b6e0e5",
    "execution": {
     "iopub.execute_input": "2022-02-28T17:14:20.244792Z",
     "iopub.status.busy": "2022-02-28T17:14:20.244145Z",
     "iopub.status.idle": "2022-02-28T17:14:20.256245Z",
     "shell.execute_reply": "2022-02-28T17:14:20.255528Z",
     "shell.execute_reply.started": "2022-02-28T17:12:46.245779Z"
    },
    "papermill": {
     "duration": 0.051582,
     "end_time": "2022-02-28T17:14:20.256425",
     "exception": false,
     "start_time": "2022-02-28T17:14:20.204843",
     "status": "completed"
    },
    "tags": []
   },
   "outputs": [
    {
     "name": "stdout",
     "output_type": "stream",
     "text": [
      "/kaggle/input/house-price-prediction-data/sample_submission.csv\n",
      "/kaggle/input/house-price-prediction-data/train.csv\n",
      "/kaggle/input/house-price-prediction-data/test.csv\n"
     ]
    }
   ],
   "source": [
    "# This Python 3 environment comes with many helpful analytics libraries installed\n",
    "# It is defined by the kaggle/python Docker image: https://github.com/kaggle/docker-python\n",
    "# For example, here's several helpful packages to load\n",
    "\n",
    "\n",
    "# Input data files are available in the read-only \"../input/\" directory\n",
    "# For example, running this (by clicking run or pressing Shift+Enter) will list all files under the input directory\n",
    "\n",
    "import os\n",
    "for dirname, _, filenames in os.walk('/kaggle/input'):\n",
    "    for filename in filenames:\n",
    "        print(os.path.join(dirname, filename))\n",
    "\n",
    "# You can write up to 20GB to the current directory (/kaggle/working/) that gets preserved as output when you create a version using \"Save & Run All\" \n",
    "# You can also write temporary files to /kaggle/temp/, but they won't be saved outside of the current session"
   ]
  },
  {
   "cell_type": "markdown",
   "id": "a9874801",
   "metadata": {
    "papermill": {
     "duration": 0.027356,
     "end_time": "2022-02-28T17:14:20.312845",
     "exception": false,
     "start_time": "2022-02-28T17:14:20.285489",
     "status": "completed"
    },
    "tags": []
   },
   "source": [
    "**Importing the libraries**"
   ]
  },
  {
   "cell_type": "code",
   "execution_count": 2,
   "id": "549b1261",
   "metadata": {
    "execution": {
     "iopub.execute_input": "2022-02-28T17:14:20.372695Z",
     "iopub.status.busy": "2022-02-28T17:14:20.372041Z",
     "iopub.status.idle": "2022-02-28T17:14:24.365925Z",
     "shell.execute_reply": "2022-02-28T17:14:24.365438Z",
     "shell.execute_reply.started": "2022-02-28T17:12:46.257650Z"
    },
    "papermill": {
     "duration": 4.025785,
     "end_time": "2022-02-28T17:14:24.366056",
     "exception": false,
     "start_time": "2022-02-28T17:14:20.340271",
     "status": "completed"
    },
    "tags": []
   },
   "outputs": [],
   "source": [
    "import cudf as cd\n",
    "import cupy as cp\n",
    "import cuml as cm\n",
    "import pandas as pd\n",
    "import sklearn\n",
    "import numpy as np\n",
    "df = pd.read_csv('../input/house-price-prediction-data/train.csv')\n",
    "test = pd.read_csv('../input/house-price-prediction-data/test.csv')"
   ]
  },
  {
   "cell_type": "markdown",
   "id": "7849d3dc",
   "metadata": {
    "papermill": {
     "duration": 0.027593,
     "end_time": "2022-02-28T17:14:24.423539",
     "exception": false,
     "start_time": "2022-02-28T17:14:24.395946",
     "status": "completed"
    },
    "tags": []
   },
   "source": [
    "**Preparing the test dataset**"
   ]
  },
  {
   "cell_type": "code",
   "execution_count": 3,
   "id": "f50638af",
   "metadata": {
    "execution": {
     "iopub.execute_input": "2022-02-28T17:14:24.484026Z",
     "iopub.status.busy": "2022-02-28T17:14:24.483473Z",
     "iopub.status.idle": "2022-02-28T17:14:24.527033Z",
     "shell.execute_reply": "2022-02-28T17:14:24.527455Z",
     "shell.execute_reply.started": "2022-02-28T17:12:46.298427Z"
    },
    "papermill": {
     "duration": 0.075937,
     "end_time": "2022-02-28T17:14:24.527605",
     "exception": false,
     "start_time": "2022-02-28T17:14:24.451668",
     "status": "completed"
    },
    "tags": []
   },
   "outputs": [
    {
     "data": {
      "text/html": [
       "<div>\n",
       "<style scoped>\n",
       "    .dataframe tbody tr th:only-of-type {\n",
       "        vertical-align: middle;\n",
       "    }\n",
       "\n",
       "    .dataframe tbody tr th {\n",
       "        vertical-align: top;\n",
       "    }\n",
       "\n",
       "    .dataframe thead th {\n",
       "        text-align: right;\n",
       "    }\n",
       "</style>\n",
       "<table border=\"1\" class=\"dataframe\">\n",
       "  <thead>\n",
       "    <tr style=\"text-align: right;\">\n",
       "      <th></th>\n",
       "      <th>Id</th>\n",
       "      <th>MSSubClass</th>\n",
       "      <th>MSZoning</th>\n",
       "      <th>LotFrontage</th>\n",
       "      <th>LotArea</th>\n",
       "      <th>Street</th>\n",
       "      <th>Alley</th>\n",
       "      <th>LotShape</th>\n",
       "      <th>LandContour</th>\n",
       "      <th>Utilities</th>\n",
       "      <th>...</th>\n",
       "      <th>PoolArea</th>\n",
       "      <th>PoolQC</th>\n",
       "      <th>Fence</th>\n",
       "      <th>MiscFeature</th>\n",
       "      <th>MiscVal</th>\n",
       "      <th>MoSold</th>\n",
       "      <th>YrSold</th>\n",
       "      <th>SaleType</th>\n",
       "      <th>SaleCondition</th>\n",
       "      <th>SalePrice</th>\n",
       "    </tr>\n",
       "  </thead>\n",
       "  <tbody>\n",
       "    <tr>\n",
       "      <th>0</th>\n",
       "      <td>1461</td>\n",
       "      <td>20</td>\n",
       "      <td>RH</td>\n",
       "      <td>80.0</td>\n",
       "      <td>11622</td>\n",
       "      <td>Pave</td>\n",
       "      <td>NaN</td>\n",
       "      <td>Reg</td>\n",
       "      <td>Lvl</td>\n",
       "      <td>AllPub</td>\n",
       "      <td>...</td>\n",
       "      <td>0</td>\n",
       "      <td>NaN</td>\n",
       "      <td>MnPrv</td>\n",
       "      <td>NaN</td>\n",
       "      <td>0</td>\n",
       "      <td>6</td>\n",
       "      <td>2010</td>\n",
       "      <td>WD</td>\n",
       "      <td>Normal</td>\n",
       "      <td>169277.052498</td>\n",
       "    </tr>\n",
       "    <tr>\n",
       "      <th>1</th>\n",
       "      <td>1462</td>\n",
       "      <td>20</td>\n",
       "      <td>RL</td>\n",
       "      <td>81.0</td>\n",
       "      <td>14267</td>\n",
       "      <td>Pave</td>\n",
       "      <td>NaN</td>\n",
       "      <td>IR1</td>\n",
       "      <td>Lvl</td>\n",
       "      <td>AllPub</td>\n",
       "      <td>...</td>\n",
       "      <td>0</td>\n",
       "      <td>NaN</td>\n",
       "      <td>NaN</td>\n",
       "      <td>Gar2</td>\n",
       "      <td>12500</td>\n",
       "      <td>6</td>\n",
       "      <td>2010</td>\n",
       "      <td>WD</td>\n",
       "      <td>Normal</td>\n",
       "      <td>187758.393989</td>\n",
       "    </tr>\n",
       "    <tr>\n",
       "      <th>2</th>\n",
       "      <td>1463</td>\n",
       "      <td>60</td>\n",
       "      <td>RL</td>\n",
       "      <td>74.0</td>\n",
       "      <td>13830</td>\n",
       "      <td>Pave</td>\n",
       "      <td>NaN</td>\n",
       "      <td>IR1</td>\n",
       "      <td>Lvl</td>\n",
       "      <td>AllPub</td>\n",
       "      <td>...</td>\n",
       "      <td>0</td>\n",
       "      <td>NaN</td>\n",
       "      <td>MnPrv</td>\n",
       "      <td>NaN</td>\n",
       "      <td>0</td>\n",
       "      <td>3</td>\n",
       "      <td>2010</td>\n",
       "      <td>WD</td>\n",
       "      <td>Normal</td>\n",
       "      <td>183583.683570</td>\n",
       "    </tr>\n",
       "    <tr>\n",
       "      <th>3</th>\n",
       "      <td>1464</td>\n",
       "      <td>60</td>\n",
       "      <td>RL</td>\n",
       "      <td>78.0</td>\n",
       "      <td>9978</td>\n",
       "      <td>Pave</td>\n",
       "      <td>NaN</td>\n",
       "      <td>IR1</td>\n",
       "      <td>Lvl</td>\n",
       "      <td>AllPub</td>\n",
       "      <td>...</td>\n",
       "      <td>0</td>\n",
       "      <td>NaN</td>\n",
       "      <td>NaN</td>\n",
       "      <td>NaN</td>\n",
       "      <td>0</td>\n",
       "      <td>6</td>\n",
       "      <td>2010</td>\n",
       "      <td>WD</td>\n",
       "      <td>Normal</td>\n",
       "      <td>179317.477511</td>\n",
       "    </tr>\n",
       "    <tr>\n",
       "      <th>4</th>\n",
       "      <td>1465</td>\n",
       "      <td>120</td>\n",
       "      <td>RL</td>\n",
       "      <td>43.0</td>\n",
       "      <td>5005</td>\n",
       "      <td>Pave</td>\n",
       "      <td>NaN</td>\n",
       "      <td>IR1</td>\n",
       "      <td>HLS</td>\n",
       "      <td>AllPub</td>\n",
       "      <td>...</td>\n",
       "      <td>0</td>\n",
       "      <td>NaN</td>\n",
       "      <td>NaN</td>\n",
       "      <td>NaN</td>\n",
       "      <td>0</td>\n",
       "      <td>1</td>\n",
       "      <td>2010</td>\n",
       "      <td>WD</td>\n",
       "      <td>Normal</td>\n",
       "      <td>150730.079977</td>\n",
       "    </tr>\n",
       "    <tr>\n",
       "      <th>...</th>\n",
       "      <td>...</td>\n",
       "      <td>...</td>\n",
       "      <td>...</td>\n",
       "      <td>...</td>\n",
       "      <td>...</td>\n",
       "      <td>...</td>\n",
       "      <td>...</td>\n",
       "      <td>...</td>\n",
       "      <td>...</td>\n",
       "      <td>...</td>\n",
       "      <td>...</td>\n",
       "      <td>...</td>\n",
       "      <td>...</td>\n",
       "      <td>...</td>\n",
       "      <td>...</td>\n",
       "      <td>...</td>\n",
       "      <td>...</td>\n",
       "      <td>...</td>\n",
       "      <td>...</td>\n",
       "      <td>...</td>\n",
       "      <td>...</td>\n",
       "    </tr>\n",
       "    <tr>\n",
       "      <th>1454</th>\n",
       "      <td>2915</td>\n",
       "      <td>160</td>\n",
       "      <td>RM</td>\n",
       "      <td>21.0</td>\n",
       "      <td>1936</td>\n",
       "      <td>Pave</td>\n",
       "      <td>NaN</td>\n",
       "      <td>Reg</td>\n",
       "      <td>Lvl</td>\n",
       "      <td>AllPub</td>\n",
       "      <td>...</td>\n",
       "      <td>0</td>\n",
       "      <td>NaN</td>\n",
       "      <td>NaN</td>\n",
       "      <td>NaN</td>\n",
       "      <td>0</td>\n",
       "      <td>6</td>\n",
       "      <td>2006</td>\n",
       "      <td>WD</td>\n",
       "      <td>Normal</td>\n",
       "      <td>167081.220949</td>\n",
       "    </tr>\n",
       "    <tr>\n",
       "      <th>1455</th>\n",
       "      <td>2916</td>\n",
       "      <td>160</td>\n",
       "      <td>RM</td>\n",
       "      <td>21.0</td>\n",
       "      <td>1894</td>\n",
       "      <td>Pave</td>\n",
       "      <td>NaN</td>\n",
       "      <td>Reg</td>\n",
       "      <td>Lvl</td>\n",
       "      <td>AllPub</td>\n",
       "      <td>...</td>\n",
       "      <td>0</td>\n",
       "      <td>NaN</td>\n",
       "      <td>NaN</td>\n",
       "      <td>NaN</td>\n",
       "      <td>0</td>\n",
       "      <td>4</td>\n",
       "      <td>2006</td>\n",
       "      <td>WD</td>\n",
       "      <td>Abnorml</td>\n",
       "      <td>164788.778231</td>\n",
       "    </tr>\n",
       "    <tr>\n",
       "      <th>1456</th>\n",
       "      <td>2917</td>\n",
       "      <td>20</td>\n",
       "      <td>RL</td>\n",
       "      <td>160.0</td>\n",
       "      <td>20000</td>\n",
       "      <td>Pave</td>\n",
       "      <td>NaN</td>\n",
       "      <td>Reg</td>\n",
       "      <td>Lvl</td>\n",
       "      <td>AllPub</td>\n",
       "      <td>...</td>\n",
       "      <td>0</td>\n",
       "      <td>NaN</td>\n",
       "      <td>NaN</td>\n",
       "      <td>NaN</td>\n",
       "      <td>0</td>\n",
       "      <td>9</td>\n",
       "      <td>2006</td>\n",
       "      <td>WD</td>\n",
       "      <td>Abnorml</td>\n",
       "      <td>219222.423400</td>\n",
       "    </tr>\n",
       "    <tr>\n",
       "      <th>1457</th>\n",
       "      <td>2918</td>\n",
       "      <td>85</td>\n",
       "      <td>RL</td>\n",
       "      <td>62.0</td>\n",
       "      <td>10441</td>\n",
       "      <td>Pave</td>\n",
       "      <td>NaN</td>\n",
       "      <td>Reg</td>\n",
       "      <td>Lvl</td>\n",
       "      <td>AllPub</td>\n",
       "      <td>...</td>\n",
       "      <td>0</td>\n",
       "      <td>NaN</td>\n",
       "      <td>MnPrv</td>\n",
       "      <td>Shed</td>\n",
       "      <td>700</td>\n",
       "      <td>7</td>\n",
       "      <td>2006</td>\n",
       "      <td>WD</td>\n",
       "      <td>Normal</td>\n",
       "      <td>184924.279659</td>\n",
       "    </tr>\n",
       "    <tr>\n",
       "      <th>1458</th>\n",
       "      <td>2919</td>\n",
       "      <td>60</td>\n",
       "      <td>RL</td>\n",
       "      <td>74.0</td>\n",
       "      <td>9627</td>\n",
       "      <td>Pave</td>\n",
       "      <td>NaN</td>\n",
       "      <td>Reg</td>\n",
       "      <td>Lvl</td>\n",
       "      <td>AllPub</td>\n",
       "      <td>...</td>\n",
       "      <td>0</td>\n",
       "      <td>NaN</td>\n",
       "      <td>NaN</td>\n",
       "      <td>NaN</td>\n",
       "      <td>0</td>\n",
       "      <td>11</td>\n",
       "      <td>2006</td>\n",
       "      <td>WD</td>\n",
       "      <td>Normal</td>\n",
       "      <td>187741.866657</td>\n",
       "    </tr>\n",
       "  </tbody>\n",
       "</table>\n",
       "<p>1459 rows × 81 columns</p>\n",
       "</div>"
      ],
      "text/plain": [
       "        Id  MSSubClass MSZoning  LotFrontage  LotArea Street Alley LotShape  \\\n",
       "0     1461          20       RH         80.0    11622   Pave   NaN      Reg   \n",
       "1     1462          20       RL         81.0    14267   Pave   NaN      IR1   \n",
       "2     1463          60       RL         74.0    13830   Pave   NaN      IR1   \n",
       "3     1464          60       RL         78.0     9978   Pave   NaN      IR1   \n",
       "4     1465         120       RL         43.0     5005   Pave   NaN      IR1   \n",
       "...    ...         ...      ...          ...      ...    ...   ...      ...   \n",
       "1454  2915         160       RM         21.0     1936   Pave   NaN      Reg   \n",
       "1455  2916         160       RM         21.0     1894   Pave   NaN      Reg   \n",
       "1456  2917          20       RL        160.0    20000   Pave   NaN      Reg   \n",
       "1457  2918          85       RL         62.0    10441   Pave   NaN      Reg   \n",
       "1458  2919          60       RL         74.0     9627   Pave   NaN      Reg   \n",
       "\n",
       "     LandContour Utilities  ... PoolArea PoolQC  Fence MiscFeature MiscVal  \\\n",
       "0            Lvl    AllPub  ...        0    NaN  MnPrv         NaN       0   \n",
       "1            Lvl    AllPub  ...        0    NaN    NaN        Gar2   12500   \n",
       "2            Lvl    AllPub  ...        0    NaN  MnPrv         NaN       0   \n",
       "3            Lvl    AllPub  ...        0    NaN    NaN         NaN       0   \n",
       "4            HLS    AllPub  ...        0    NaN    NaN         NaN       0   \n",
       "...          ...       ...  ...      ...    ...    ...         ...     ...   \n",
       "1454         Lvl    AllPub  ...        0    NaN    NaN         NaN       0   \n",
       "1455         Lvl    AllPub  ...        0    NaN    NaN         NaN       0   \n",
       "1456         Lvl    AllPub  ...        0    NaN    NaN         NaN       0   \n",
       "1457         Lvl    AllPub  ...        0    NaN  MnPrv        Shed     700   \n",
       "1458         Lvl    AllPub  ...        0    NaN    NaN         NaN       0   \n",
       "\n",
       "     MoSold YrSold  SaleType  SaleCondition      SalePrice  \n",
       "0         6   2010        WD         Normal  169277.052498  \n",
       "1         6   2010        WD         Normal  187758.393989  \n",
       "2         3   2010        WD         Normal  183583.683570  \n",
       "3         6   2010        WD         Normal  179317.477511  \n",
       "4         1   2010        WD         Normal  150730.079977  \n",
       "...     ...    ...       ...            ...            ...  \n",
       "1454      6   2006        WD         Normal  167081.220949  \n",
       "1455      4   2006        WD        Abnorml  164788.778231  \n",
       "1456      9   2006        WD        Abnorml  219222.423400  \n",
       "1457      7   2006        WD         Normal  184924.279659  \n",
       "1458     11   2006        WD         Normal  187741.866657  \n",
       "\n",
       "[1459 rows x 81 columns]"
      ]
     },
     "execution_count": 3,
     "metadata": {},
     "output_type": "execute_result"
    }
   ],
   "source": [
    "sample = pd.read_csv('../input/house-price-prediction-data/sample_submission.csv')\n",
    "test['SalePrice'] = sample['SalePrice']\n",
    "test"
   ]
  },
  {
   "cell_type": "markdown",
   "id": "3594d479",
   "metadata": {
    "papermill": {
     "duration": 0.028631,
     "end_time": "2022-02-28T17:14:24.585304",
     "exception": false,
     "start_time": "2022-02-28T17:14:24.556673",
     "status": "completed"
    },
    "tags": []
   },
   "source": [
    "**Separating input and output columns**"
   ]
  },
  {
   "cell_type": "code",
   "execution_count": 4,
   "id": "1ef20bdf",
   "metadata": {
    "execution": {
     "iopub.execute_input": "2022-02-28T17:14:24.649207Z",
     "iopub.status.busy": "2022-02-28T17:14:24.648345Z",
     "iopub.status.idle": "2022-02-28T17:14:24.653248Z",
     "shell.execute_reply": "2022-02-28T17:14:24.652806Z",
     "shell.execute_reply.started": "2022-02-28T17:12:46.332364Z"
    },
    "papermill": {
     "duration": 0.039025,
     "end_time": "2022-02-28T17:14:24.653373",
     "exception": false,
     "start_time": "2022-02-28T17:14:24.614348",
     "status": "completed"
    },
    "tags": []
   },
   "outputs": [],
   "source": [
    "X = df.iloc[:,:-1]\n",
    "columns = X.columns\n",
    "Y = df.iloc[:,-1]\n",
    "X_test = test.iloc[:,:-1]\n",
    "Y_test = test.iloc[:,-1]"
   ]
  },
  {
   "cell_type": "code",
   "execution_count": 5,
   "id": "339cf297",
   "metadata": {
    "execution": {
     "iopub.execute_input": "2022-02-28T17:14:24.719133Z",
     "iopub.status.busy": "2022-02-28T17:14:24.718296Z",
     "iopub.status.idle": "2022-02-28T17:14:24.731105Z",
     "shell.execute_reply": "2022-02-28T17:14:24.730677Z",
     "shell.execute_reply.started": "2022-02-28T17:12:46.340891Z"
    },
    "papermill": {
     "duration": 0.048948,
     "end_time": "2022-02-28T17:14:24.731233",
     "exception": false,
     "start_time": "2022-02-28T17:14:24.682285",
     "status": "completed"
    },
    "tags": []
   },
   "outputs": [],
   "source": [
    "X = X.append(X_test,ignore_index=True)\n",
    "Y = Y.append(Y_test,ignore_index=True)"
   ]
  },
  {
   "cell_type": "markdown",
   "id": "7404519a",
   "metadata": {
    "papermill": {
     "duration": 0.028122,
     "end_time": "2022-02-28T17:14:24.788289",
     "exception": false,
     "start_time": "2022-02-28T17:14:24.760167",
     "status": "completed"
    },
    "tags": []
   },
   "source": [
    "**Changing object dtype columns to str**"
   ]
  },
  {
   "cell_type": "code",
   "execution_count": 6,
   "id": "24d4cab7",
   "metadata": {
    "execution": {
     "iopub.execute_input": "2022-02-28T17:14:24.850900Z",
     "iopub.status.busy": "2022-02-28T17:14:24.850383Z",
     "iopub.status.idle": "2022-02-28T17:14:24.896543Z",
     "shell.execute_reply": "2022-02-28T17:14:24.895990Z",
     "shell.execute_reply.started": "2022-02-28T17:12:46.362463Z"
    },
    "papermill": {
     "duration": 0.080034,
     "end_time": "2022-02-28T17:14:24.896693",
     "exception": false,
     "start_time": "2022-02-28T17:14:24.816659",
     "status": "completed"
    },
    "tags": []
   },
   "outputs": [
    {
     "data": {
      "text/html": [
       "<div>\n",
       "<style scoped>\n",
       "    .dataframe tbody tr th:only-of-type {\n",
       "        vertical-align: middle;\n",
       "    }\n",
       "\n",
       "    .dataframe tbody tr th {\n",
       "        vertical-align: top;\n",
       "    }\n",
       "\n",
       "    .dataframe thead th {\n",
       "        text-align: right;\n",
       "    }\n",
       "</style>\n",
       "<table border=\"1\" class=\"dataframe\">\n",
       "  <thead>\n",
       "    <tr style=\"text-align: right;\">\n",
       "      <th></th>\n",
       "      <th>MSZoning</th>\n",
       "      <th>Street</th>\n",
       "      <th>Alley</th>\n",
       "      <th>LotShape</th>\n",
       "      <th>LandContour</th>\n",
       "      <th>Utilities</th>\n",
       "      <th>LotConfig</th>\n",
       "      <th>LandSlope</th>\n",
       "      <th>Neighborhood</th>\n",
       "      <th>Condition1</th>\n",
       "      <th>...</th>\n",
       "      <th>GarageType</th>\n",
       "      <th>GarageFinish</th>\n",
       "      <th>GarageQual</th>\n",
       "      <th>GarageCond</th>\n",
       "      <th>PavedDrive</th>\n",
       "      <th>PoolQC</th>\n",
       "      <th>Fence</th>\n",
       "      <th>MiscFeature</th>\n",
       "      <th>SaleType</th>\n",
       "      <th>SaleCondition</th>\n",
       "    </tr>\n",
       "  </thead>\n",
       "  <tbody>\n",
       "    <tr>\n",
       "      <th>0</th>\n",
       "      <td>RL</td>\n",
       "      <td>Pave</td>\n",
       "      <td>nan</td>\n",
       "      <td>Reg</td>\n",
       "      <td>Lvl</td>\n",
       "      <td>AllPub</td>\n",
       "      <td>Inside</td>\n",
       "      <td>Gtl</td>\n",
       "      <td>CollgCr</td>\n",
       "      <td>Norm</td>\n",
       "      <td>...</td>\n",
       "      <td>Attchd</td>\n",
       "      <td>RFn</td>\n",
       "      <td>TA</td>\n",
       "      <td>TA</td>\n",
       "      <td>Y</td>\n",
       "      <td>nan</td>\n",
       "      <td>nan</td>\n",
       "      <td>nan</td>\n",
       "      <td>WD</td>\n",
       "      <td>Normal</td>\n",
       "    </tr>\n",
       "    <tr>\n",
       "      <th>1</th>\n",
       "      <td>RL</td>\n",
       "      <td>Pave</td>\n",
       "      <td>nan</td>\n",
       "      <td>Reg</td>\n",
       "      <td>Lvl</td>\n",
       "      <td>AllPub</td>\n",
       "      <td>FR2</td>\n",
       "      <td>Gtl</td>\n",
       "      <td>Veenker</td>\n",
       "      <td>Feedr</td>\n",
       "      <td>...</td>\n",
       "      <td>Attchd</td>\n",
       "      <td>RFn</td>\n",
       "      <td>TA</td>\n",
       "      <td>TA</td>\n",
       "      <td>Y</td>\n",
       "      <td>nan</td>\n",
       "      <td>nan</td>\n",
       "      <td>nan</td>\n",
       "      <td>WD</td>\n",
       "      <td>Normal</td>\n",
       "    </tr>\n",
       "    <tr>\n",
       "      <th>2</th>\n",
       "      <td>RL</td>\n",
       "      <td>Pave</td>\n",
       "      <td>nan</td>\n",
       "      <td>IR1</td>\n",
       "      <td>Lvl</td>\n",
       "      <td>AllPub</td>\n",
       "      <td>Inside</td>\n",
       "      <td>Gtl</td>\n",
       "      <td>CollgCr</td>\n",
       "      <td>Norm</td>\n",
       "      <td>...</td>\n",
       "      <td>Attchd</td>\n",
       "      <td>RFn</td>\n",
       "      <td>TA</td>\n",
       "      <td>TA</td>\n",
       "      <td>Y</td>\n",
       "      <td>nan</td>\n",
       "      <td>nan</td>\n",
       "      <td>nan</td>\n",
       "      <td>WD</td>\n",
       "      <td>Normal</td>\n",
       "    </tr>\n",
       "    <tr>\n",
       "      <th>3</th>\n",
       "      <td>RL</td>\n",
       "      <td>Pave</td>\n",
       "      <td>nan</td>\n",
       "      <td>IR1</td>\n",
       "      <td>Lvl</td>\n",
       "      <td>AllPub</td>\n",
       "      <td>Corner</td>\n",
       "      <td>Gtl</td>\n",
       "      <td>Crawfor</td>\n",
       "      <td>Norm</td>\n",
       "      <td>...</td>\n",
       "      <td>Detchd</td>\n",
       "      <td>Unf</td>\n",
       "      <td>TA</td>\n",
       "      <td>TA</td>\n",
       "      <td>Y</td>\n",
       "      <td>nan</td>\n",
       "      <td>nan</td>\n",
       "      <td>nan</td>\n",
       "      <td>WD</td>\n",
       "      <td>Abnorml</td>\n",
       "    </tr>\n",
       "    <tr>\n",
       "      <th>4</th>\n",
       "      <td>RL</td>\n",
       "      <td>Pave</td>\n",
       "      <td>nan</td>\n",
       "      <td>IR1</td>\n",
       "      <td>Lvl</td>\n",
       "      <td>AllPub</td>\n",
       "      <td>FR2</td>\n",
       "      <td>Gtl</td>\n",
       "      <td>NoRidge</td>\n",
       "      <td>Norm</td>\n",
       "      <td>...</td>\n",
       "      <td>Attchd</td>\n",
       "      <td>RFn</td>\n",
       "      <td>TA</td>\n",
       "      <td>TA</td>\n",
       "      <td>Y</td>\n",
       "      <td>nan</td>\n",
       "      <td>nan</td>\n",
       "      <td>nan</td>\n",
       "      <td>WD</td>\n",
       "      <td>Normal</td>\n",
       "    </tr>\n",
       "    <tr>\n",
       "      <th>...</th>\n",
       "      <td>...</td>\n",
       "      <td>...</td>\n",
       "      <td>...</td>\n",
       "      <td>...</td>\n",
       "      <td>...</td>\n",
       "      <td>...</td>\n",
       "      <td>...</td>\n",
       "      <td>...</td>\n",
       "      <td>...</td>\n",
       "      <td>...</td>\n",
       "      <td>...</td>\n",
       "      <td>...</td>\n",
       "      <td>...</td>\n",
       "      <td>...</td>\n",
       "      <td>...</td>\n",
       "      <td>...</td>\n",
       "      <td>...</td>\n",
       "      <td>...</td>\n",
       "      <td>...</td>\n",
       "      <td>...</td>\n",
       "      <td>...</td>\n",
       "    </tr>\n",
       "    <tr>\n",
       "      <th>2914</th>\n",
       "      <td>RM</td>\n",
       "      <td>Pave</td>\n",
       "      <td>nan</td>\n",
       "      <td>Reg</td>\n",
       "      <td>Lvl</td>\n",
       "      <td>AllPub</td>\n",
       "      <td>Inside</td>\n",
       "      <td>Gtl</td>\n",
       "      <td>MeadowV</td>\n",
       "      <td>Norm</td>\n",
       "      <td>...</td>\n",
       "      <td>nan</td>\n",
       "      <td>nan</td>\n",
       "      <td>nan</td>\n",
       "      <td>nan</td>\n",
       "      <td>Y</td>\n",
       "      <td>nan</td>\n",
       "      <td>nan</td>\n",
       "      <td>nan</td>\n",
       "      <td>WD</td>\n",
       "      <td>Normal</td>\n",
       "    </tr>\n",
       "    <tr>\n",
       "      <th>2915</th>\n",
       "      <td>RM</td>\n",
       "      <td>Pave</td>\n",
       "      <td>nan</td>\n",
       "      <td>Reg</td>\n",
       "      <td>Lvl</td>\n",
       "      <td>AllPub</td>\n",
       "      <td>Inside</td>\n",
       "      <td>Gtl</td>\n",
       "      <td>MeadowV</td>\n",
       "      <td>Norm</td>\n",
       "      <td>...</td>\n",
       "      <td>CarPort</td>\n",
       "      <td>Unf</td>\n",
       "      <td>TA</td>\n",
       "      <td>TA</td>\n",
       "      <td>Y</td>\n",
       "      <td>nan</td>\n",
       "      <td>nan</td>\n",
       "      <td>nan</td>\n",
       "      <td>WD</td>\n",
       "      <td>Abnorml</td>\n",
       "    </tr>\n",
       "    <tr>\n",
       "      <th>2916</th>\n",
       "      <td>RL</td>\n",
       "      <td>Pave</td>\n",
       "      <td>nan</td>\n",
       "      <td>Reg</td>\n",
       "      <td>Lvl</td>\n",
       "      <td>AllPub</td>\n",
       "      <td>Inside</td>\n",
       "      <td>Gtl</td>\n",
       "      <td>Mitchel</td>\n",
       "      <td>Norm</td>\n",
       "      <td>...</td>\n",
       "      <td>Detchd</td>\n",
       "      <td>Unf</td>\n",
       "      <td>TA</td>\n",
       "      <td>TA</td>\n",
       "      <td>Y</td>\n",
       "      <td>nan</td>\n",
       "      <td>nan</td>\n",
       "      <td>nan</td>\n",
       "      <td>WD</td>\n",
       "      <td>Abnorml</td>\n",
       "    </tr>\n",
       "    <tr>\n",
       "      <th>2917</th>\n",
       "      <td>RL</td>\n",
       "      <td>Pave</td>\n",
       "      <td>nan</td>\n",
       "      <td>Reg</td>\n",
       "      <td>Lvl</td>\n",
       "      <td>AllPub</td>\n",
       "      <td>Inside</td>\n",
       "      <td>Gtl</td>\n",
       "      <td>Mitchel</td>\n",
       "      <td>Norm</td>\n",
       "      <td>...</td>\n",
       "      <td>nan</td>\n",
       "      <td>nan</td>\n",
       "      <td>nan</td>\n",
       "      <td>nan</td>\n",
       "      <td>Y</td>\n",
       "      <td>nan</td>\n",
       "      <td>MnPrv</td>\n",
       "      <td>Shed</td>\n",
       "      <td>WD</td>\n",
       "      <td>Normal</td>\n",
       "    </tr>\n",
       "    <tr>\n",
       "      <th>2918</th>\n",
       "      <td>RL</td>\n",
       "      <td>Pave</td>\n",
       "      <td>nan</td>\n",
       "      <td>Reg</td>\n",
       "      <td>Lvl</td>\n",
       "      <td>AllPub</td>\n",
       "      <td>Inside</td>\n",
       "      <td>Mod</td>\n",
       "      <td>Mitchel</td>\n",
       "      <td>Norm</td>\n",
       "      <td>...</td>\n",
       "      <td>Attchd</td>\n",
       "      <td>Fin</td>\n",
       "      <td>TA</td>\n",
       "      <td>TA</td>\n",
       "      <td>Y</td>\n",
       "      <td>nan</td>\n",
       "      <td>nan</td>\n",
       "      <td>nan</td>\n",
       "      <td>WD</td>\n",
       "      <td>Normal</td>\n",
       "    </tr>\n",
       "  </tbody>\n",
       "</table>\n",
       "<p>2919 rows × 43 columns</p>\n",
       "</div>"
      ],
      "text/plain": [
       "     MSZoning Street Alley LotShape LandContour Utilities LotConfig LandSlope  \\\n",
       "0          RL   Pave   nan      Reg         Lvl    AllPub    Inside       Gtl   \n",
       "1          RL   Pave   nan      Reg         Lvl    AllPub       FR2       Gtl   \n",
       "2          RL   Pave   nan      IR1         Lvl    AllPub    Inside       Gtl   \n",
       "3          RL   Pave   nan      IR1         Lvl    AllPub    Corner       Gtl   \n",
       "4          RL   Pave   nan      IR1         Lvl    AllPub       FR2       Gtl   \n",
       "...       ...    ...   ...      ...         ...       ...       ...       ...   \n",
       "2914       RM   Pave   nan      Reg         Lvl    AllPub    Inside       Gtl   \n",
       "2915       RM   Pave   nan      Reg         Lvl    AllPub    Inside       Gtl   \n",
       "2916       RL   Pave   nan      Reg         Lvl    AllPub    Inside       Gtl   \n",
       "2917       RL   Pave   nan      Reg         Lvl    AllPub    Inside       Gtl   \n",
       "2918       RL   Pave   nan      Reg         Lvl    AllPub    Inside       Mod   \n",
       "\n",
       "     Neighborhood Condition1  ... GarageType GarageFinish GarageQual  \\\n",
       "0         CollgCr       Norm  ...     Attchd          RFn         TA   \n",
       "1         Veenker      Feedr  ...     Attchd          RFn         TA   \n",
       "2         CollgCr       Norm  ...     Attchd          RFn         TA   \n",
       "3         Crawfor       Norm  ...     Detchd          Unf         TA   \n",
       "4         NoRidge       Norm  ...     Attchd          RFn         TA   \n",
       "...           ...        ...  ...        ...          ...        ...   \n",
       "2914      MeadowV       Norm  ...        nan          nan        nan   \n",
       "2915      MeadowV       Norm  ...    CarPort          Unf         TA   \n",
       "2916      Mitchel       Norm  ...     Detchd          Unf         TA   \n",
       "2917      Mitchel       Norm  ...        nan          nan        nan   \n",
       "2918      Mitchel       Norm  ...     Attchd          Fin         TA   \n",
       "\n",
       "     GarageCond PavedDrive PoolQC  Fence MiscFeature SaleType SaleCondition  \n",
       "0            TA          Y    nan    nan         nan       WD        Normal  \n",
       "1            TA          Y    nan    nan         nan       WD        Normal  \n",
       "2            TA          Y    nan    nan         nan       WD        Normal  \n",
       "3            TA          Y    nan    nan         nan       WD       Abnorml  \n",
       "4            TA          Y    nan    nan         nan       WD        Normal  \n",
       "...         ...        ...    ...    ...         ...      ...           ...  \n",
       "2914        nan          Y    nan    nan         nan       WD        Normal  \n",
       "2915         TA          Y    nan    nan         nan       WD       Abnorml  \n",
       "2916         TA          Y    nan    nan         nan       WD       Abnorml  \n",
       "2917        nan          Y    nan  MnPrv        Shed       WD        Normal  \n",
       "2918         TA          Y    nan    nan         nan       WD        Normal  \n",
       "\n",
       "[2919 rows x 43 columns]"
      ]
     },
     "execution_count": 6,
     "metadata": {},
     "output_type": "execute_result"
    }
   ],
   "source": [
    "from sklearn.preprocessing import LabelEncoder\n",
    "temp = X.select_dtypes(include = \"object\").columns\n",
    "temp = list(temp)\n",
    "X[temp].apply(lambda col: col.astype(str))"
   ]
  },
  {
   "cell_type": "markdown",
   "id": "8cc4186f",
   "metadata": {
    "papermill": {
     "duration": 0.029291,
     "end_time": "2022-02-28T17:14:24.955492",
     "exception": false,
     "start_time": "2022-02-28T17:14:24.926201",
     "status": "completed"
    },
    "tags": []
   },
   "source": [
    "**Label encoding all the columns**"
   ]
  },
  {
   "cell_type": "code",
   "execution_count": 7,
   "id": "c9b27f48",
   "metadata": {
    "execution": {
     "iopub.execute_input": "2022-02-28T17:14:25.065611Z",
     "iopub.status.busy": "2022-02-28T17:14:25.064332Z",
     "iopub.status.idle": "2022-02-28T17:14:25.067881Z",
     "shell.execute_reply": "2022-02-28T17:14:25.068279Z",
     "shell.execute_reply.started": "2022-02-28T17:12:46.410114Z"
    },
    "papermill": {
     "duration": 0.083746,
     "end_time": "2022-02-28T17:14:25.068441",
     "exception": false,
     "start_time": "2022-02-28T17:14:24.984695",
     "status": "completed"
    },
    "tags": []
   },
   "outputs": [],
   "source": [
    "X_temp = X[temp].apply(lambda col: LabelEncoder().fit_transform(col.astype(str)), axis=0, result_type='expand')"
   ]
  },
  {
   "cell_type": "markdown",
   "id": "8ef5d4c1",
   "metadata": {
    "papermill": {
     "duration": 0.029074,
     "end_time": "2022-02-28T17:14:25.127002",
     "exception": false,
     "start_time": "2022-02-28T17:14:25.097928",
     "status": "completed"
    },
    "tags": []
   },
   "source": [
    "**Appending the encoded columns in the final dataframe**"
   ]
  },
  {
   "cell_type": "code",
   "execution_count": 8,
   "id": "59200ffc",
   "metadata": {
    "execution": {
     "iopub.execute_input": "2022-02-28T17:14:25.193552Z",
     "iopub.status.busy": "2022-02-28T17:14:25.192338Z",
     "iopub.status.idle": "2022-02-28T17:14:25.196098Z",
     "shell.execute_reply": "2022-02-28T17:14:25.195593Z",
     "shell.execute_reply.started": "2022-02-28T17:12:46.467372Z"
    },
    "papermill": {
     "duration": 0.039671,
     "end_time": "2022-02-28T17:14:25.196242",
     "exception": false,
     "start_time": "2022-02-28T17:14:25.156571",
     "status": "completed"
    },
    "tags": []
   },
   "outputs": [],
   "source": [
    "X = X.drop(temp,axis=1)\n",
    "X = pd.concat([X,X_temp],axis=1)"
   ]
  },
  {
   "cell_type": "markdown",
   "id": "1011ff2c",
   "metadata": {
    "papermill": {
     "duration": 0.028862,
     "end_time": "2022-02-28T17:14:25.254149",
     "exception": false,
     "start_time": "2022-02-28T17:14:25.225287",
     "status": "completed"
    },
    "tags": []
   },
   "source": [
    "**Replacing NAN with -1**"
   ]
  },
  {
   "cell_type": "code",
   "execution_count": 9,
   "id": "c70f2b5f",
   "metadata": {
    "execution": {
     "iopub.execute_input": "2022-02-28T17:14:25.318740Z",
     "iopub.status.busy": "2022-02-28T17:14:25.317781Z",
     "iopub.status.idle": "2022-02-28T17:14:25.323719Z",
     "shell.execute_reply": "2022-02-28T17:14:25.323266Z",
     "shell.execute_reply.started": "2022-02-28T17:12:46.476470Z"
    },
    "papermill": {
     "duration": 0.039539,
     "end_time": "2022-02-28T17:14:25.323832",
     "exception": false,
     "start_time": "2022-02-28T17:14:25.284293",
     "status": "completed"
    },
    "tags": []
   },
   "outputs": [],
   "source": [
    "X = X.replace(np.nan,-1)"
   ]
  },
  {
   "cell_type": "code",
   "execution_count": 10,
   "id": "04333f33",
   "metadata": {
    "execution": {
     "iopub.execute_input": "2022-02-28T17:14:25.389042Z",
     "iopub.status.busy": "2022-02-28T17:14:25.388471Z",
     "iopub.status.idle": "2022-02-28T17:14:25.407910Z",
     "shell.execute_reply": "2022-02-28T17:14:25.408313Z",
     "shell.execute_reply.started": "2022-02-28T17:12:46.487524Z"
    },
    "papermill": {
     "duration": 0.055535,
     "end_time": "2022-02-28T17:14:25.408453",
     "exception": false,
     "start_time": "2022-02-28T17:14:25.352918",
     "status": "completed"
    },
    "tags": []
   },
   "outputs": [
    {
     "data": {
      "text/html": [
       "<div>\n",
       "<style scoped>\n",
       "    .dataframe tbody tr th:only-of-type {\n",
       "        vertical-align: middle;\n",
       "    }\n",
       "\n",
       "    .dataframe tbody tr th {\n",
       "        vertical-align: top;\n",
       "    }\n",
       "\n",
       "    .dataframe thead th {\n",
       "        text-align: right;\n",
       "    }\n",
       "</style>\n",
       "<table border=\"1\" class=\"dataframe\">\n",
       "  <thead>\n",
       "    <tr style=\"text-align: right;\">\n",
       "      <th></th>\n",
       "      <th>Id</th>\n",
       "      <th>MSSubClass</th>\n",
       "      <th>LotFrontage</th>\n",
       "      <th>LotArea</th>\n",
       "      <th>OverallQual</th>\n",
       "      <th>OverallCond</th>\n",
       "      <th>YearBuilt</th>\n",
       "      <th>YearRemodAdd</th>\n",
       "      <th>MasVnrArea</th>\n",
       "      <th>BsmtFinSF1</th>\n",
       "      <th>...</th>\n",
       "      <th>GarageType</th>\n",
       "      <th>GarageFinish</th>\n",
       "      <th>GarageQual</th>\n",
       "      <th>GarageCond</th>\n",
       "      <th>PavedDrive</th>\n",
       "      <th>PoolQC</th>\n",
       "      <th>Fence</th>\n",
       "      <th>MiscFeature</th>\n",
       "      <th>SaleType</th>\n",
       "      <th>SaleCondition</th>\n",
       "    </tr>\n",
       "  </thead>\n",
       "  <tbody>\n",
       "    <tr>\n",
       "      <th>0</th>\n",
       "      <td>1</td>\n",
       "      <td>60</td>\n",
       "      <td>65.0</td>\n",
       "      <td>8450</td>\n",
       "      <td>7</td>\n",
       "      <td>5</td>\n",
       "      <td>2003</td>\n",
       "      <td>2003</td>\n",
       "      <td>196.0</td>\n",
       "      <td>706.0</td>\n",
       "      <td>...</td>\n",
       "      <td>1</td>\n",
       "      <td>1</td>\n",
       "      <td>4</td>\n",
       "      <td>4</td>\n",
       "      <td>2</td>\n",
       "      <td>3</td>\n",
       "      <td>4</td>\n",
       "      <td>4</td>\n",
       "      <td>8</td>\n",
       "      <td>4</td>\n",
       "    </tr>\n",
       "    <tr>\n",
       "      <th>1</th>\n",
       "      <td>2</td>\n",
       "      <td>20</td>\n",
       "      <td>80.0</td>\n",
       "      <td>9600</td>\n",
       "      <td>6</td>\n",
       "      <td>8</td>\n",
       "      <td>1976</td>\n",
       "      <td>1976</td>\n",
       "      <td>0.0</td>\n",
       "      <td>978.0</td>\n",
       "      <td>...</td>\n",
       "      <td>1</td>\n",
       "      <td>1</td>\n",
       "      <td>4</td>\n",
       "      <td>4</td>\n",
       "      <td>2</td>\n",
       "      <td>3</td>\n",
       "      <td>4</td>\n",
       "      <td>4</td>\n",
       "      <td>8</td>\n",
       "      <td>4</td>\n",
       "    </tr>\n",
       "    <tr>\n",
       "      <th>2</th>\n",
       "      <td>3</td>\n",
       "      <td>60</td>\n",
       "      <td>68.0</td>\n",
       "      <td>11250</td>\n",
       "      <td>7</td>\n",
       "      <td>5</td>\n",
       "      <td>2001</td>\n",
       "      <td>2002</td>\n",
       "      <td>162.0</td>\n",
       "      <td>486.0</td>\n",
       "      <td>...</td>\n",
       "      <td>1</td>\n",
       "      <td>1</td>\n",
       "      <td>4</td>\n",
       "      <td>4</td>\n",
       "      <td>2</td>\n",
       "      <td>3</td>\n",
       "      <td>4</td>\n",
       "      <td>4</td>\n",
       "      <td>8</td>\n",
       "      <td>4</td>\n",
       "    </tr>\n",
       "    <tr>\n",
       "      <th>3</th>\n",
       "      <td>4</td>\n",
       "      <td>70</td>\n",
       "      <td>60.0</td>\n",
       "      <td>9550</td>\n",
       "      <td>7</td>\n",
       "      <td>5</td>\n",
       "      <td>1915</td>\n",
       "      <td>1970</td>\n",
       "      <td>0.0</td>\n",
       "      <td>216.0</td>\n",
       "      <td>...</td>\n",
       "      <td>5</td>\n",
       "      <td>2</td>\n",
       "      <td>4</td>\n",
       "      <td>4</td>\n",
       "      <td>2</td>\n",
       "      <td>3</td>\n",
       "      <td>4</td>\n",
       "      <td>4</td>\n",
       "      <td>8</td>\n",
       "      <td>0</td>\n",
       "    </tr>\n",
       "    <tr>\n",
       "      <th>4</th>\n",
       "      <td>5</td>\n",
       "      <td>60</td>\n",
       "      <td>84.0</td>\n",
       "      <td>14260</td>\n",
       "      <td>8</td>\n",
       "      <td>5</td>\n",
       "      <td>2000</td>\n",
       "      <td>2000</td>\n",
       "      <td>350.0</td>\n",
       "      <td>655.0</td>\n",
       "      <td>...</td>\n",
       "      <td>1</td>\n",
       "      <td>1</td>\n",
       "      <td>4</td>\n",
       "      <td>4</td>\n",
       "      <td>2</td>\n",
       "      <td>3</td>\n",
       "      <td>4</td>\n",
       "      <td>4</td>\n",
       "      <td>8</td>\n",
       "      <td>4</td>\n",
       "    </tr>\n",
       "    <tr>\n",
       "      <th>...</th>\n",
       "      <td>...</td>\n",
       "      <td>...</td>\n",
       "      <td>...</td>\n",
       "      <td>...</td>\n",
       "      <td>...</td>\n",
       "      <td>...</td>\n",
       "      <td>...</td>\n",
       "      <td>...</td>\n",
       "      <td>...</td>\n",
       "      <td>...</td>\n",
       "      <td>...</td>\n",
       "      <td>...</td>\n",
       "      <td>...</td>\n",
       "      <td>...</td>\n",
       "      <td>...</td>\n",
       "      <td>...</td>\n",
       "      <td>...</td>\n",
       "      <td>...</td>\n",
       "      <td>...</td>\n",
       "      <td>...</td>\n",
       "      <td>...</td>\n",
       "    </tr>\n",
       "    <tr>\n",
       "      <th>2914</th>\n",
       "      <td>2915</td>\n",
       "      <td>160</td>\n",
       "      <td>21.0</td>\n",
       "      <td>1936</td>\n",
       "      <td>4</td>\n",
       "      <td>7</td>\n",
       "      <td>1970</td>\n",
       "      <td>1970</td>\n",
       "      <td>0.0</td>\n",
       "      <td>0.0</td>\n",
       "      <td>...</td>\n",
       "      <td>6</td>\n",
       "      <td>3</td>\n",
       "      <td>5</td>\n",
       "      <td>5</td>\n",
       "      <td>2</td>\n",
       "      <td>3</td>\n",
       "      <td>4</td>\n",
       "      <td>4</td>\n",
       "      <td>8</td>\n",
       "      <td>4</td>\n",
       "    </tr>\n",
       "    <tr>\n",
       "      <th>2915</th>\n",
       "      <td>2916</td>\n",
       "      <td>160</td>\n",
       "      <td>21.0</td>\n",
       "      <td>1894</td>\n",
       "      <td>4</td>\n",
       "      <td>5</td>\n",
       "      <td>1970</td>\n",
       "      <td>1970</td>\n",
       "      <td>0.0</td>\n",
       "      <td>252.0</td>\n",
       "      <td>...</td>\n",
       "      <td>4</td>\n",
       "      <td>2</td>\n",
       "      <td>4</td>\n",
       "      <td>4</td>\n",
       "      <td>2</td>\n",
       "      <td>3</td>\n",
       "      <td>4</td>\n",
       "      <td>4</td>\n",
       "      <td>8</td>\n",
       "      <td>0</td>\n",
       "    </tr>\n",
       "    <tr>\n",
       "      <th>2916</th>\n",
       "      <td>2917</td>\n",
       "      <td>20</td>\n",
       "      <td>160.0</td>\n",
       "      <td>20000</td>\n",
       "      <td>5</td>\n",
       "      <td>7</td>\n",
       "      <td>1960</td>\n",
       "      <td>1996</td>\n",
       "      <td>0.0</td>\n",
       "      <td>1224.0</td>\n",
       "      <td>...</td>\n",
       "      <td>5</td>\n",
       "      <td>2</td>\n",
       "      <td>4</td>\n",
       "      <td>4</td>\n",
       "      <td>2</td>\n",
       "      <td>3</td>\n",
       "      <td>4</td>\n",
       "      <td>4</td>\n",
       "      <td>8</td>\n",
       "      <td>0</td>\n",
       "    </tr>\n",
       "    <tr>\n",
       "      <th>2917</th>\n",
       "      <td>2918</td>\n",
       "      <td>85</td>\n",
       "      <td>62.0</td>\n",
       "      <td>10441</td>\n",
       "      <td>5</td>\n",
       "      <td>5</td>\n",
       "      <td>1992</td>\n",
       "      <td>1992</td>\n",
       "      <td>0.0</td>\n",
       "      <td>337.0</td>\n",
       "      <td>...</td>\n",
       "      <td>6</td>\n",
       "      <td>3</td>\n",
       "      <td>5</td>\n",
       "      <td>5</td>\n",
       "      <td>2</td>\n",
       "      <td>3</td>\n",
       "      <td>2</td>\n",
       "      <td>2</td>\n",
       "      <td>8</td>\n",
       "      <td>4</td>\n",
       "    </tr>\n",
       "    <tr>\n",
       "      <th>2918</th>\n",
       "      <td>2919</td>\n",
       "      <td>60</td>\n",
       "      <td>74.0</td>\n",
       "      <td>9627</td>\n",
       "      <td>7</td>\n",
       "      <td>5</td>\n",
       "      <td>1993</td>\n",
       "      <td>1994</td>\n",
       "      <td>94.0</td>\n",
       "      <td>758.0</td>\n",
       "      <td>...</td>\n",
       "      <td>1</td>\n",
       "      <td>0</td>\n",
       "      <td>4</td>\n",
       "      <td>4</td>\n",
       "      <td>2</td>\n",
       "      <td>3</td>\n",
       "      <td>4</td>\n",
       "      <td>4</td>\n",
       "      <td>8</td>\n",
       "      <td>4</td>\n",
       "    </tr>\n",
       "  </tbody>\n",
       "</table>\n",
       "<p>2919 rows × 80 columns</p>\n",
       "</div>"
      ],
      "text/plain": [
       "        Id  MSSubClass  LotFrontage  LotArea  OverallQual  OverallCond  \\\n",
       "0        1          60         65.0     8450            7            5   \n",
       "1        2          20         80.0     9600            6            8   \n",
       "2        3          60         68.0    11250            7            5   \n",
       "3        4          70         60.0     9550            7            5   \n",
       "4        5          60         84.0    14260            8            5   \n",
       "...    ...         ...          ...      ...          ...          ...   \n",
       "2914  2915         160         21.0     1936            4            7   \n",
       "2915  2916         160         21.0     1894            4            5   \n",
       "2916  2917          20        160.0    20000            5            7   \n",
       "2917  2918          85         62.0    10441            5            5   \n",
       "2918  2919          60         74.0     9627            7            5   \n",
       "\n",
       "      YearBuilt  YearRemodAdd  MasVnrArea  BsmtFinSF1  ...  GarageType  \\\n",
       "0          2003          2003       196.0       706.0  ...           1   \n",
       "1          1976          1976         0.0       978.0  ...           1   \n",
       "2          2001          2002       162.0       486.0  ...           1   \n",
       "3          1915          1970         0.0       216.0  ...           5   \n",
       "4          2000          2000       350.0       655.0  ...           1   \n",
       "...         ...           ...         ...         ...  ...         ...   \n",
       "2914       1970          1970         0.0         0.0  ...           6   \n",
       "2915       1970          1970         0.0       252.0  ...           4   \n",
       "2916       1960          1996         0.0      1224.0  ...           5   \n",
       "2917       1992          1992         0.0       337.0  ...           6   \n",
       "2918       1993          1994        94.0       758.0  ...           1   \n",
       "\n",
       "      GarageFinish  GarageQual  GarageCond  PavedDrive  PoolQC  Fence  \\\n",
       "0                1           4           4           2       3      4   \n",
       "1                1           4           4           2       3      4   \n",
       "2                1           4           4           2       3      4   \n",
       "3                2           4           4           2       3      4   \n",
       "4                1           4           4           2       3      4   \n",
       "...            ...         ...         ...         ...     ...    ...   \n",
       "2914             3           5           5           2       3      4   \n",
       "2915             2           4           4           2       3      4   \n",
       "2916             2           4           4           2       3      4   \n",
       "2917             3           5           5           2       3      2   \n",
       "2918             0           4           4           2       3      4   \n",
       "\n",
       "      MiscFeature  SaleType  SaleCondition  \n",
       "0               4         8              4  \n",
       "1               4         8              4  \n",
       "2               4         8              4  \n",
       "3               4         8              0  \n",
       "4               4         8              4  \n",
       "...           ...       ...            ...  \n",
       "2914            4         8              4  \n",
       "2915            4         8              0  \n",
       "2916            4         8              0  \n",
       "2917            2         8              4  \n",
       "2918            4         8              4  \n",
       "\n",
       "[2919 rows x 80 columns]"
      ]
     },
     "execution_count": 10,
     "metadata": {},
     "output_type": "execute_result"
    }
   ],
   "source": [
    "X"
   ]
  },
  {
   "cell_type": "markdown",
   "id": "0876f13a",
   "metadata": {
    "papermill": {
     "duration": 0.029827,
     "end_time": "2022-02-28T17:14:25.468462",
     "exception": false,
     "start_time": "2022-02-28T17:14:25.438635",
     "status": "completed"
    },
    "tags": []
   },
   "source": [
    "**Importance of individual features**"
   ]
  },
  {
   "cell_type": "code",
   "execution_count": 11,
   "id": "3241b112",
   "metadata": {
    "execution": {
     "iopub.execute_input": "2022-02-28T17:14:25.536766Z",
     "iopub.status.busy": "2022-02-28T17:14:25.535781Z",
     "iopub.status.idle": "2022-02-28T17:14:49.034978Z",
     "shell.execute_reply": "2022-02-28T17:14:49.035984Z",
     "shell.execute_reply.started": "2022-02-28T17:12:46.513444Z"
    },
    "papermill": {
     "duration": 23.538053,
     "end_time": "2022-02-28T17:14:49.036350",
     "exception": false,
     "start_time": "2022-02-28T17:14:25.498297",
     "status": "completed"
    },
    "tags": []
   },
   "outputs": [
    {
     "name": "stdout",
     "output_type": "stream",
     "text": [
      "Id 0.2314487929996132\n",
      "MSSubClass 0.0019893162508869714\n",
      "MSZoning 0.005384095577344542\n",
      "LotFrontage 0.027232147169641452\n",
      "LotArea 0.2013158649043865\n",
      "Street 0.004370513555542976\n",
      "Alley 0.020718470684202343\n",
      "LotShape 0.007996771641614064\n",
      "LandContour 0.006490873070178357\n",
      "Utilities 0.023870604073790106\n",
      "LotConfig 0.0007164149400794307\n",
      "LandSlope 0.005090296538966818\n",
      "Neighborhood 0.044849620363904164\n",
      "Condition1 0.0209683278838782\n",
      "Condition2 0.0361095550663296\n",
      "BldgType 9.107290641616117e-05\n",
      "HouseStyle 0.2026015914711109\n",
      "OverallQual 0.0008816275245955705\n",
      "OverallCond 0.00027880740122404027\n",
      "YearBuilt 0.0017479463432332908\n",
      "YearRemodAdd 0.001000774358945801\n",
      "RoofStyle 0.01867823561301154\n",
      "RoofMatl 0.0006908301275789606\n",
      "Exterior1st 0.005939420661772846\n",
      "Exterior2nd 0.00195601238233084\n",
      "MasVnrType 0.006323756308781858\n",
      "MasVnrArea 0.028893418999946636\n",
      "ExterQual 0.01742080992402711\n",
      "ExterCond 0.004521158097229166\n",
      "Foundation 0.003985943748530878\n",
      "BsmtQual 0.0006585889348885611\n",
      "BsmtCond 0.0004331821211691608\n",
      "BsmtExposure 0.001304010416332532\n",
      "BsmtFinType1 0.0002477543459434791\n",
      "BsmtFinSF1 0.00010739320046910684\n",
      "BsmtFinType2 0.004619750828693528\n",
      "BsmtFinSF2 0.0014687014365566606\n",
      "BsmtUnfSF 0.0018629845328232517\n",
      "TotalBsmtSF 7.67655970350549e-06\n",
      "Heating 0.0004757562634950658\n",
      "HeatingQC 0.0008614414459045237\n",
      "CentralAir 0.0013860059248324364\n",
      "Electrical 1.2035673575874896e-06\n",
      "1stFlrSF 0.0010032268596831034\n",
      "2ndFlrSF 0.0006187111937803334\n",
      "LowQualFinSF 0.006497795119597679\n",
      "GrLivArea 0.0006172857322030779\n",
      "BsmtFullBath 0.00017037159557164162\n",
      "BsmtHalfBath 0.0005128039097497025\n",
      "FullBath 0.000788083065643563\n",
      "HalfBath 0.0008994550893967329\n",
      "BedroomAbvGr 0.00024203780202168947\n",
      "KitchenAbvGr 0.0016921121755921014\n",
      "KitchenQual 0.0013836215169854397\n",
      "TotRmsAbvGrd 0.0010624043568243386\n",
      "Functional 0.003869956961483101\n",
      "Fireplaces 0.0005203580065559619\n",
      "FireplaceQu 0.000512157078978902\n",
      "GarageType 0.006046876221624832\n",
      "GarageYrBlt 0.0002719641487304788\n",
      "GarageFinish 0.0019875831958511957\n",
      "GarageCars 0.0018039742244224215\n",
      "GarageArea 0.00032757776056225056\n",
      "GarageQual 0.0001225621069391115\n",
      "GarageCond 0.0007218814983066983\n",
      "PavedDrive 0.00360228057964477\n",
      "WoodDeckSF 0.0002016330833911654\n",
      "OpenPorchSF 0.003860024100873575\n",
      "EnclosedPorch 0.0007858501477559948\n",
      "3SsnPorch 0.0018295505094313123\n",
      "ScreenPorch 0.003368417026057914\n",
      "PoolArea 0.00414533739464991\n",
      "PoolQC 0.00023552976083516478\n",
      "Fence 0.00014113391945051477\n",
      "MiscFeature 0.00033836344755817916\n",
      "MiscVal 0.0002737798916429234\n",
      "MoSold 0.00039776932802286014\n",
      "YrSold 2.9427072845055896e-05\n",
      "SaleType 0.0006777086094726813\n",
      "SaleCondition 0.0014428753405998683\n"
     ]
    },
    {
     "name": "stderr",
     "output_type": "stream",
     "text": [
      "/opt/conda/lib/python3.7/site-packages/ipykernel_launcher.py:12: FutureWarning: In a future version of pandas all arguments of DataFrame.drop except for the argument 'labels' will be keyword-only\n",
      "  if sys.path[0] == '':\n"
     ]
    }
   ],
   "source": [
    "from sklearn.ensemble import RandomForestRegressor\n",
    "rnd_clf = RandomForestRegressor(n_estimators=500)\n",
    "rnd_clf.fit(X,Y)\n",
    "importance_dict = {}\n",
    "for j in X.columns:\n",
    "    importance_dict[j]=0\n",
    "for name,score in zip(columns,rnd_clf.feature_importances_):\n",
    "    importance_dict[name]=importance_dict[name]+score\n",
    "    print(name,score)\n",
    "for k in X.columns:\n",
    "    if(importance_dict[k]<0.0008):\n",
    "        X=X.drop([k],1)"
   ]
  },
  {
   "cell_type": "markdown",
   "id": "62416eec",
   "metadata": {
    "papermill": {
     "duration": 0.047364,
     "end_time": "2022-02-28T17:14:49.134137",
     "exception": false,
     "start_time": "2022-02-28T17:14:49.086773",
     "status": "completed"
    },
    "tags": []
   },
   "source": [
    "**Plotting the feature importances**"
   ]
  },
  {
   "cell_type": "code",
   "execution_count": 12,
   "id": "ea8154e8",
   "metadata": {
    "execution": {
     "iopub.execute_input": "2022-02-28T17:14:49.246317Z",
     "iopub.status.busy": "2022-02-28T17:14:49.245307Z",
     "iopub.status.idle": "2022-02-28T17:14:51.012628Z",
     "shell.execute_reply": "2022-02-28T17:14:51.013039Z",
     "shell.execute_reply.started": "2022-02-28T17:13:08.955711Z"
    },
    "papermill": {
     "duration": 1.827687,
     "end_time": "2022-02-28T17:14:51.013180",
     "exception": false,
     "start_time": "2022-02-28T17:14:49.185493",
     "status": "completed"
    },
    "tags": []
   },
   "outputs": [
    {
     "data": {
      "text/plain": [
       "<BarContainer object of 80 artists>"
      ]
     },
     "execution_count": 12,
     "metadata": {},
     "output_type": "execute_result"
    },
    {
     "data": {
      "image/png": "[encoded data removed]",
      "text/plain": [
       "<Figure size 1440x1440 with 1 Axes>"
      ]
     },
     "metadata": {
      "needs_background": "light"
     },
     "output_type": "display_data"
    }
   ],
   "source": [
    "sorted_idx = rnd_clf.feature_importances_.argsort()\n",
    "import matplotlib.pyplot as plt\n",
    "plt.figure(figsize=(20, 20))\n",
    "plt.barh(columns[sorted_idx],rnd_clf.feature_importances_[sorted_idx])\n"
   ]
  },
  {
   "cell_type": "markdown",
   "id": "fc25f5dd",
   "metadata": {
    "papermill": {
     "duration": 0.032813,
     "end_time": "2022-02-28T17:14:51.083543",
     "exception": false,
     "start_time": "2022-02-28T17:14:51.050730",
     "status": "completed"
    },
    "tags": []
   },
   "source": [
    "**Training testing split**"
   ]
  },
  {
   "cell_type": "code",
   "execution_count": 13,
   "id": "a8886e63",
   "metadata": {
    "execution": {
     "iopub.execute_input": "2022-02-28T17:14:51.154268Z",
     "iopub.status.busy": "2022-02-28T17:14:51.153378Z",
     "iopub.status.idle": "2022-02-28T17:14:51.158815Z",
     "shell.execute_reply": "2022-02-28T17:14:51.158413Z",
     "shell.execute_reply.started": "2022-02-28T17:13:10.284945Z"
    },
    "papermill": {
     "duration": 0.042627,
     "end_time": "2022-02-28T17:14:51.158923",
     "exception": false,
     "start_time": "2022-02-28T17:14:51.116296",
     "status": "completed"
    },
    "tags": []
   },
   "outputs": [],
   "source": [
    "from sklearn.model_selection import train_test_split\n",
    "X,X_test,Y,Y_test = train_test_split(X,Y,test_size=0.2,random_state=0)"
   ]
  },
  {
   "cell_type": "code",
   "execution_count": 14,
   "id": "f3dd903b",
   "metadata": {
    "execution": {
     "iopub.execute_input": "2022-02-28T17:14:51.228392Z",
     "iopub.status.busy": "2022-02-28T17:14:51.227859Z",
     "iopub.status.idle": "2022-02-28T17:14:51.233193Z",
     "shell.execute_reply": "2022-02-28T17:14:51.232779Z",
     "shell.execute_reply.started": "2022-02-28T17:13:10.294911Z"
    },
    "papermill": {
     "duration": 0.041668,
     "end_time": "2022-02-28T17:14:51.233329",
     "exception": false,
     "start_time": "2022-02-28T17:14:51.191661",
     "status": "completed"
    },
    "tags": []
   },
   "outputs": [
    {
     "data": {
      "text/plain": [
       "48"
      ]
     },
     "execution_count": 14,
     "metadata": {},
     "output_type": "execute_result"
    }
   ],
   "source": [
    "columns=X.columns\n",
    "len(columns)"
   ]
  },
  {
   "cell_type": "markdown",
   "id": "0ae8674c",
   "metadata": {
    "papermill": {
     "duration": 0.03349,
     "end_time": "2022-02-28T17:14:51.299999",
     "exception": false,
     "start_time": "2022-02-28T17:14:51.266509",
     "status": "completed"
    },
    "tags": []
   },
   "source": [
    "**Scaling the input features**"
   ]
  },
  {
   "cell_type": "code",
   "execution_count": 15,
   "id": "5901554f",
   "metadata": {
    "execution": {
     "iopub.execute_input": "2022-02-28T17:14:55.135624Z",
     "iopub.status.busy": "2022-02-28T17:14:55.134939Z",
     "iopub.status.idle": "2022-02-28T17:15:03.554018Z",
     "shell.execute_reply": "2022-02-28T17:15:03.552992Z",
     "shell.execute_reply.started": "2022-02-28T17:13:10.303678Z"
    },
    "papermill": {
     "duration": 12.221342,
     "end_time": "2022-02-28T17:15:03.554178",
     "exception": false,
     "start_time": "2022-02-28T17:14:51.332836",
     "status": "completed"
    },
    "tags": []
   },
   "outputs": [],
   "source": [
    "from cuml.preprocessing import StandardScaler\n",
    "for i in columns :\n",
    "    scaler = StandardScaler()\n",
    "    X[i] = scaler.fit_transform(X[i].values.reshape(-1,1))\n",
    "    X_test[i] = scaler.transform(X_test[i].values.reshape(-1,1))"
   ]
  },
  {
   "cell_type": "markdown",
   "id": "20f68da9",
   "metadata": {
    "papermill": {
     "duration": 0.035527,
     "end_time": "2022-02-28T17:15:03.626096",
     "exception": false,
     "start_time": "2022-02-28T17:15:03.590569",
     "status": "completed"
    },
    "tags": []
   },
   "source": [
    "**Dropping the id column**"
   ]
  },
  {
   "cell_type": "code",
   "execution_count": 16,
   "id": "21c7e75c",
   "metadata": {
    "execution": {
     "iopub.execute_input": "2022-02-28T17:15:03.704328Z",
     "iopub.status.busy": "2022-02-28T17:15:03.703421Z",
     "iopub.status.idle": "2022-02-28T17:15:03.705335Z",
     "shell.execute_reply": "2022-02-28T17:15:03.705782Z",
     "shell.execute_reply.started": "2022-02-28T17:13:10.613780Z"
    },
    "papermill": {
     "duration": 0.044455,
     "end_time": "2022-02-28T17:15:03.705911",
     "exception": false,
     "start_time": "2022-02-28T17:15:03.661456",
     "status": "completed"
    },
    "tags": []
   },
   "outputs": [],
   "source": [
    "X = X.iloc[:,1:]\n",
    "X_test = X_test.iloc[:,1:]"
   ]
  },
  {
   "cell_type": "markdown",
   "id": "84fdf512",
   "metadata": {
    "papermill": {
     "duration": 0.034518,
     "end_time": "2022-02-28T17:15:03.775485",
     "exception": false,
     "start_time": "2022-02-28T17:15:03.740967",
     "status": "completed"
    },
    "tags": []
   },
   "source": [
    "**Scaling the output features**"
   ]
  },
  {
   "cell_type": "code",
   "execution_count": 17,
   "id": "8b988564",
   "metadata": {
    "execution": {
     "iopub.execute_input": "2022-02-28T17:15:03.852146Z",
     "iopub.status.busy": "2022-02-28T17:15:03.851274Z",
     "iopub.status.idle": "2022-02-28T17:15:03.860653Z",
     "shell.execute_reply": "2022-02-28T17:15:03.861083Z",
     "shell.execute_reply.started": "2022-02-28T17:13:10.622904Z"
    },
    "papermill": {
     "duration": 0.050408,
     "end_time": "2022-02-28T17:15:03.861273",
     "exception": false,
     "start_time": "2022-02-28T17:15:03.810865",
     "status": "completed"
    },
    "tags": []
   },
   "outputs": [],
   "source": [
    "scaler = StandardScaler()\n",
    "Y = scaler.fit_transform(Y.values.reshape(-1,1))\n",
    "Y_test = scaler.transform(Y_test.values.reshape(-1,1))"
   ]
  },
  {
   "cell_type": "markdown",
   "id": "a718625e",
   "metadata": {
    "papermill": {
     "duration": 0.034687,
     "end_time": "2022-02-28T17:15:03.932298",
     "exception": false,
     "start_time": "2022-02-28T17:15:03.897611",
     "status": "completed"
    },
    "tags": []
   },
   "source": [
    "**Linear Regression**"
   ]
  },
  {
   "cell_type": "code",
   "execution_count": 18,
   "id": "b9e1d2e1",
   "metadata": {
    "execution": {
     "iopub.execute_input": "2022-02-28T17:15:04.007691Z",
     "iopub.status.busy": "2022-02-28T17:15:04.005039Z",
     "iopub.status.idle": "2022-02-28T17:15:07.568088Z",
     "shell.execute_reply": "2022-02-28T17:15:07.568632Z",
     "shell.execute_reply.started": "2022-02-28T17:13:10.639685Z"
    },
    "papermill": {
     "duration": 3.603715,
     "end_time": "2022-02-28T17:15:07.568822",
     "exception": false,
     "start_time": "2022-02-28T17:15:03.965107",
     "status": "completed"
    },
    "tags": []
   },
   "outputs": [
    {
     "name": "stdout",
     "output_type": "stream",
     "text": [
      "1.2015192649187816 0.8106373915663332 0.44956145382760127\n"
     ]
    }
   ],
   "source": [
    "from cuml import LinearRegression\n",
    "from cuml.linear_model import LinearRegression\n",
    "X_new = cd.DataFrame(X)\n",
    "Y_new = cd.DataFrame(Y)\n",
    "lr = LinearRegression(fit_intercept = False,algorithm = \"svd\")\n",
    "reg = lr.fit(X_new,Y_new)\n",
    "preds = lr.predict(X_test)\n",
    "from cuml.metrics import mean_squared_error\n",
    "from cuml.metrics import mean_absolute_error\n",
    "from cuml.metrics import r2_score\n",
    "MSE = mean_squared_error(Y_test,preds)\n",
    "MAE = mean_absolute_error(Y_test,preds)\n",
    "R2 = r2_score(Y_test,preds)\n",
    "print(MSE,MAE,R2)"
   ]
  },
  {
   "cell_type": "markdown",
   "id": "290d1356",
   "metadata": {
    "papermill": {
     "duration": 0.037794,
     "end_time": "2022-02-28T17:15:07.645470",
     "exception": false,
     "start_time": "2022-02-28T17:15:07.607676",
     "status": "completed"
    },
    "tags": []
   },
   "source": [
    "**Logistic Regression**"
   ]
  },
  {
   "cell_type": "code",
   "execution_count": 19,
   "id": "31509958",
   "metadata": {
    "execution": {
     "iopub.execute_input": "2022-02-28T17:15:07.722293Z",
     "iopub.status.busy": "2022-02-28T17:15:07.721426Z",
     "iopub.status.idle": "2022-02-28T17:15:08.759409Z",
     "shell.execute_reply": "2022-02-28T17:15:08.759937Z",
     "shell.execute_reply.started": "2022-02-28T17:13:10.693406Z"
    },
    "papermill": {
     "duration": 1.077992,
     "end_time": "2022-02-28T17:15:08.760091",
     "exception": false,
     "start_time": "2022-02-28T17:15:07.682099",
     "status": "completed"
    },
    "tags": []
   },
   "outputs": [
    {
     "name": "stdout",
     "output_type": "stream",
     "text": [
      "[W] [17:15:08.745681] L-BFGS stopped, because the line search failed to advance (step delta = 0.000000)\n",
      "0.7575460208875798 0.5640392590625964 -0.0010559335664261926\n"
     ]
    }
   ],
   "source": [
    "from cuml.linear_model import LogisticRegression\n",
    "reg = LogisticRegression()\n",
    "reg.fit(X,Y)\n",
    "preds = reg.predict(X_test)\n",
    "from cuml.metrics import mean_squared_error\n",
    "from cuml.metrics import mean_absolute_error\n",
    "from cuml.metrics import r2_score\n",
    "MSE = mean_squared_error(Y_test,preds)\n",
    "MAE = mean_absolute_error(Y_test,preds)\n",
    "R2 = r2_score(Y_test,preds)\n",
    "print(MSE,MAE,R2)"
   ]
  },
  {
   "cell_type": "markdown",
   "id": "f2d16d0c",
   "metadata": {
    "papermill": {
     "duration": 0.034525,
     "end_time": "2022-02-28T17:15:08.828693",
     "exception": false,
     "start_time": "2022-02-28T17:15:08.794168",
     "status": "completed"
    },
    "tags": []
   },
   "source": [
    "**Ridge Regression**"
   ]
  },
  {
   "cell_type": "code",
   "execution_count": 20,
   "id": "59846b98",
   "metadata": {
    "execution": {
     "iopub.execute_input": "2022-02-28T17:15:08.903467Z",
     "iopub.status.busy": "2022-02-28T17:15:08.902671Z",
     "iopub.status.idle": "2022-02-28T17:15:08.937189Z",
     "shell.execute_reply": "2022-02-28T17:15:08.937660Z",
     "shell.execute_reply.started": "2022-02-28T17:13:10.765334Z"
    },
    "papermill": {
     "duration": 0.075436,
     "end_time": "2022-02-28T17:15:08.937809",
     "exception": false,
     "start_time": "2022-02-28T17:15:08.862373",
     "status": "completed"
    },
    "tags": []
   },
   "outputs": [
    {
     "name": "stdout",
     "output_type": "stream",
     "text": [
      "1.2014430404536138 0.8106075585318835 0.44957301413533113\n"
     ]
    }
   ],
   "source": [
    "from cuml import Ridge\n",
    "from cuml.linear_model import Ridge\n",
    "ridge = Ridge(alpha=0.5,fit_intercept = True, normalize = False,solver = \"svd\")\n",
    "result_ridge = ridge.fit(X, Y)\n",
    "preds = result_ridge.predict(X_test)\n",
    "from cuml.metrics import mean_squared_error\n",
    "from cuml.metrics import mean_absolute_error\n",
    "from cuml.metrics import r2_score\n",
    "MSE = mean_squared_error(Y_test,preds)\n",
    "MAE = mean_absolute_error(Y_test,preds)\n",
    "R2 = r2_score(Y_test,preds)\n",
    "print(MSE,MAE,R2)"
   ]
  },
  {
   "cell_type": "markdown",
   "id": "8a5536a5",
   "metadata": {
    "papermill": {
     "duration": 0.034681,
     "end_time": "2022-02-28T17:15:09.007269",
     "exception": false,
     "start_time": "2022-02-28T17:15:08.972588",
     "status": "completed"
    },
    "tags": []
   },
   "source": [
    "**Lasso Regression**"
   ]
  },
  {
   "cell_type": "code",
   "execution_count": 21,
   "id": "d14762fe",
   "metadata": {
    "execution": {
     "iopub.execute_input": "2022-02-28T17:15:09.083962Z",
     "iopub.status.busy": "2022-02-28T17:15:09.083178Z",
     "iopub.status.idle": "2022-02-28T17:15:09.129635Z",
     "shell.execute_reply": "2022-02-28T17:15:09.129167Z",
     "shell.execute_reply.started": "2022-02-28T17:13:10.791066Z"
    },
    "papermill": {
     "duration": 0.088356,
     "end_time": "2022-02-28T17:15:09.129750",
     "exception": false,
     "start_time": "2022-02-28T17:15:09.041394",
     "status": "completed"
    },
    "tags": []
   },
   "outputs": [
    {
     "name": "stdout",
     "output_type": "stream",
     "text": [
      "1.1017489296234497 0.7713677205398128 0.43967447603948295\n"
     ]
    }
   ],
   "source": [
    "from cuml.linear_model import Lasso\n",
    "ls = Lasso(alpha = 0.05)\n",
    "result_lasso = ls.fit(X, Y)\n",
    "preds = result_lasso.predict(X_test)\n",
    "from cuml.metrics import mean_squared_error\n",
    "from cuml.metrics import mean_absolute_error\n",
    "from cuml.metrics import r2_score\n",
    "MSE = mean_squared_error(Y_test,preds)\n",
    "MAE = mean_absolute_error(Y_test,preds)\n",
    "R2 = r2_score(Y_test,preds)\n",
    "print(MSE,MAE,R2)"
   ]
  },
  {
   "cell_type": "markdown",
   "id": "4bb0f3ca",
   "metadata": {
    "papermill": {
     "duration": 0.034397,
     "end_time": "2022-02-28T17:15:09.198440",
     "exception": false,
     "start_time": "2022-02-28T17:15:09.164043",
     "status": "completed"
    },
    "tags": []
   },
   "source": [
    "**ElasticNet Regression**"
   ]
  },
  {
   "cell_type": "code",
   "execution_count": 22,
   "id": "e3998924",
   "metadata": {
    "execution": {
     "iopub.execute_input": "2022-02-28T17:15:09.270460Z",
     "iopub.status.busy": "2022-02-28T17:15:09.269636Z",
     "iopub.status.idle": "2022-02-28T17:15:09.319909Z",
     "shell.execute_reply": "2022-02-28T17:15:09.319282Z",
     "shell.execute_reply.started": "2022-02-28T17:13:10.836454Z"
    },
    "papermill": {
     "duration": 0.08719,
     "end_time": "2022-02-28T17:15:09.320064",
     "exception": false,
     "start_time": "2022-02-28T17:15:09.232874",
     "status": "completed"
    },
    "tags": []
   },
   "outputs": [
    {
     "name": "stdout",
     "output_type": "stream",
     "text": [
      "1.0797917168457671 0.7604665939968752 0.44274312088527334\n"
     ]
    }
   ],
   "source": [
    "from cuml.linear_model import ElasticNet\n",
    "enet = ElasticNet(alpha = 0.3, l1_ratio=0.1)\n",
    "result_enet = enet.fit(X, Y)\n",
    "preds = result_enet.predict(X_test)\n",
    "from cuml.metrics import mean_squared_error\n",
    "from cuml.metrics import mean_absolute_error\n",
    "from cuml.metrics import r2_score\n",
    "MSE = mean_squared_error(Y_test,preds)\n",
    "MAE = mean_absolute_error(Y_test,preds)\n",
    "R2 = r2_score(Y_test,preds)\n",
    "print(MSE,MAE,R2)"
   ]
  }
 ],
 "metadata": {
  "kernelspec": {
   "display_name": "Python 3",
   "language": "python",
   "name": "python3"
  },
  "language_info": {
   "codemirror_mode": {
    "name": "ipython",
    "version": 3
   },
   "file_extension": ".py",
   "mimetype": "text/x-python",
   "name": "python",
   "nbconvert_exporter": "python",
   "pygments_lexer": "ipython3",
   "version": "3.7.12"
  },
  "papermill": {
   "default_parameters": {},
   "duration": 59.076741,
   "end_time": "2022-02-28T17:15:10.769302",
   "environment_variables": {},
   "exception": null,
   "input_path": "__notebook__.ipynb",
   "output_path": "__notebook__.ipynb",
   "parameters": {},
   "start_time": "2022-02-28T17:14:11.692561",
   "version": "2.3.3"
  }
 },
 "nbformat": 4,
 "nbformat_minor": 5
}
