{
 "cells": [
  {
   "cell_type": "code",
   "execution_count": 1,
   "id": "c55bf945",
   "metadata": {
    "_cell_guid": "b1076dfc-b9ad-4769-8c92-a6c4dae69d19",
    "_uuid": "8f2839f25d086af736a60e9eeb907d3b93b6e0e5",
    "execution": {
     "iopub.execute_input": "2022-02-28T16:44:32.761674Z",
     "iopub.status.busy": "2022-02-28T16:44:32.760960Z",
     "iopub.status.idle": "2022-02-28T16:44:32.769696Z",
     "shell.execute_reply": "2022-02-28T16:44:32.770088Z",
     "shell.execute_reply.started": "2022-02-28T16:37:44.622420Z"
    },
    "papermill": {
     "duration": 0.048987,
     "end_time": "2022-02-28T16:44:32.770313",
     "exception": false,
     "start_time": "2022-02-28T16:44:32.721326",
     "status": "completed"
    },
    "tags": []
   },
   "outputs": [
    {
     "name": "stdout",
     "output_type": "stream",
     "text": [
      "/kaggle/input/house-price-prediction/sample_submission.csv\n",
      "/kaggle/input/house-price-prediction/train.csv\n",
      "/kaggle/input/house-price-prediction/test.csv\n"
     ]
    }
   ],
   "source": [
    "# This Python 3 environment comes with many helpful analytics libraries installed\n",
    "# It is defined by the kaggle/python Docker image: https://github.com/kaggle/docker-python\n",
    "# For example, here's several helpful packages to load\n",
    "\n",
    "\n",
    "# Input data files are available in the read-only \"../input/\" directory\n",
    "# For example, running this (by clicking run or pressing Shift+Enter) will list all files under the input directory\n",
    "\n",
    "import os\n",
    "for dirname, _, filenames in os.walk('/kaggle/input'):\n",
    "    for filename in filenames:\n",
    "        print(os.path.join(dirname, filename))\n",
    "\n",
    "# You can write up to 20GB to the current directory (/kaggle/working/) that gets preserved as output when you create a version using \"Save & Run All\" \n",
    "# You can also write temporary files to /kaggle/temp/, but they won't be saved outside of the current session"
   ]
  },
  {
   "cell_type": "markdown",
   "id": "b0f9a98b",
   "metadata": {
    "papermill": {
     "duration": 0.027264,
     "end_time": "2022-02-28T16:44:32.827336",
     "exception": false,
     "start_time": "2022-02-28T16:44:32.800072",
     "status": "completed"
    },
    "tags": []
   },
   "source": [
    "**Importing the libraries**"
   ]
  },
  {
   "cell_type": "code",
   "execution_count": 2,
   "id": "e1bdc7a3",
   "metadata": {
    "execution": {
     "iopub.execute_input": "2022-02-28T16:44:32.887593Z",
     "iopub.status.busy": "2022-02-28T16:44:32.886843Z",
     "iopub.status.idle": "2022-02-28T16:44:36.677585Z",
     "shell.execute_reply": "2022-02-28T16:44:36.677100Z",
     "shell.execute_reply.started": "2022-02-28T16:38:40.986658Z"
    },
    "papermill": {
     "duration": 3.822489,
     "end_time": "2022-02-28T16:44:36.677729",
     "exception": false,
     "start_time": "2022-02-28T16:44:32.855240",
     "status": "completed"
    },
    "tags": []
   },
   "outputs": [],
   "source": [
    "import cudf as cd\n",
    "import cupy as cp\n",
    "import cuml as cm\n",
    "import pandas as pd\n",
    "import sklearn\n",
    "import numpy as np\n",
    "df = pd.read_csv('../input/house-price-prediction/train.csv')\n",
    "test = pd.read_csv('../input/house-price-prediction/test.csv')"
   ]
  },
  {
   "cell_type": "markdown",
   "id": "907f8387",
   "metadata": {
    "papermill": {
     "duration": 0.027124,
     "end_time": "2022-02-28T16:44:36.734542",
     "exception": false,
     "start_time": "2022-02-28T16:44:36.707418",
     "status": "completed"
    },
    "tags": []
   },
   "source": [
    "**Preparing the test dataset**"
   ]
  },
  {
   "cell_type": "code",
   "execution_count": 3,
   "id": "fce0da22",
   "metadata": {
    "execution": {
     "iopub.execute_input": "2022-02-28T16:44:36.793411Z",
     "iopub.status.busy": "2022-02-28T16:44:36.792859Z",
     "iopub.status.idle": "2022-02-28T16:44:36.835890Z",
     "shell.execute_reply": "2022-02-28T16:44:36.836300Z",
     "shell.execute_reply.started": "2022-02-28T16:39:17.309441Z"
    },
    "papermill": {
     "duration": 0.074752,
     "end_time": "2022-02-28T16:44:36.836429",
     "exception": false,
     "start_time": "2022-02-28T16:44:36.761677",
     "status": "completed"
    },
    "tags": []
   },
   "outputs": [
    {
     "data": {
      "text/html": [
       "<div>\n",
       "<style scoped>\n",
       "    .dataframe tbody tr th:only-of-type {\n",
       "        vertical-align: middle;\n",
       "    }\n",
       "\n",
       "    .dataframe tbody tr th {\n",
       "        vertical-align: top;\n",
       "    }\n",
       "\n",
       "    .dataframe thead th {\n",
       "        text-align: right;\n",
       "    }\n",
       "</style>\n",
       "<table border=\"1\" class=\"dataframe\">\n",
       "  <thead>\n",
       "    <tr style=\"text-align: right;\">\n",
       "      <th></th>\n",
       "      <th>Id</th>\n",
       "      <th>MSSubClass</th>\n",
       "      <th>MSZoning</th>\n",
       "      <th>LotFrontage</th>\n",
       "      <th>LotArea</th>\n",
       "      <th>Street</th>\n",
       "      <th>Alley</th>\n",
       "      <th>LotShape</th>\n",
       "      <th>LandContour</th>\n",
       "      <th>Utilities</th>\n",
       "      <th>...</th>\n",
       "      <th>PoolArea</th>\n",
       "      <th>PoolQC</th>\n",
       "      <th>Fence</th>\n",
       "      <th>MiscFeature</th>\n",
       "      <th>MiscVal</th>\n",
       "      <th>MoSold</th>\n",
       "      <th>YrSold</th>\n",
       "      <th>SaleType</th>\n",
       "      <th>SaleCondition</th>\n",
       "      <th>SalePrice</th>\n",
       "    </tr>\n",
       "  </thead>\n",
       "  <tbody>\n",
       "    <tr>\n",
       "      <th>0</th>\n",
       "      <td>1461</td>\n",
       "      <td>20</td>\n",
       "      <td>RH</td>\n",
       "      <td>80.0</td>\n",
       "      <td>11622</td>\n",
       "      <td>Pave</td>\n",
       "      <td>NaN</td>\n",
       "      <td>Reg</td>\n",
       "      <td>Lvl</td>\n",
       "      <td>AllPub</td>\n",
       "      <td>...</td>\n",
       "      <td>0</td>\n",
       "      <td>NaN</td>\n",
       "      <td>MnPrv</td>\n",
       "      <td>NaN</td>\n",
       "      <td>0</td>\n",
       "      <td>6</td>\n",
       "      <td>2010</td>\n",
       "      <td>WD</td>\n",
       "      <td>Normal</td>\n",
       "      <td>169277.052498</td>\n",
       "    </tr>\n",
       "    <tr>\n",
       "      <th>1</th>\n",
       "      <td>1462</td>\n",
       "      <td>20</td>\n",
       "      <td>RL</td>\n",
       "      <td>81.0</td>\n",
       "      <td>14267</td>\n",
       "      <td>Pave</td>\n",
       "      <td>NaN</td>\n",
       "      <td>IR1</td>\n",
       "      <td>Lvl</td>\n",
       "      <td>AllPub</td>\n",
       "      <td>...</td>\n",
       "      <td>0</td>\n",
       "      <td>NaN</td>\n",
       "      <td>NaN</td>\n",
       "      <td>Gar2</td>\n",
       "      <td>12500</td>\n",
       "      <td>6</td>\n",
       "      <td>2010</td>\n",
       "      <td>WD</td>\n",
       "      <td>Normal</td>\n",
       "      <td>187758.393989</td>\n",
       "    </tr>\n",
       "    <tr>\n",
       "      <th>2</th>\n",
       "      <td>1463</td>\n",
       "      <td>60</td>\n",
       "      <td>RL</td>\n",
       "      <td>74.0</td>\n",
       "      <td>13830</td>\n",
       "      <td>Pave</td>\n",
       "      <td>NaN</td>\n",
       "      <td>IR1</td>\n",
       "      <td>Lvl</td>\n",
       "      <td>AllPub</td>\n",
       "      <td>...</td>\n",
       "      <td>0</td>\n",
       "      <td>NaN</td>\n",
       "      <td>MnPrv</td>\n",
       "      <td>NaN</td>\n",
       "      <td>0</td>\n",
       "      <td>3</td>\n",
       "      <td>2010</td>\n",
       "      <td>WD</td>\n",
       "      <td>Normal</td>\n",
       "      <td>183583.683570</td>\n",
       "    </tr>\n",
       "    <tr>\n",
       "      <th>3</th>\n",
       "      <td>1464</td>\n",
       "      <td>60</td>\n",
       "      <td>RL</td>\n",
       "      <td>78.0</td>\n",
       "      <td>9978</td>\n",
       "      <td>Pave</td>\n",
       "      <td>NaN</td>\n",
       "      <td>IR1</td>\n",
       "      <td>Lvl</td>\n",
       "      <td>AllPub</td>\n",
       "      <td>...</td>\n",
       "      <td>0</td>\n",
       "      <td>NaN</td>\n",
       "      <td>NaN</td>\n",
       "      <td>NaN</td>\n",
       "      <td>0</td>\n",
       "      <td>6</td>\n",
       "      <td>2010</td>\n",
       "      <td>WD</td>\n",
       "      <td>Normal</td>\n",
       "      <td>179317.477511</td>\n",
       "    </tr>\n",
       "    <tr>\n",
       "      <th>4</th>\n",
       "      <td>1465</td>\n",
       "      <td>120</td>\n",
       "      <td>RL</td>\n",
       "      <td>43.0</td>\n",
       "      <td>5005</td>\n",
       "      <td>Pave</td>\n",
       "      <td>NaN</td>\n",
       "      <td>IR1</td>\n",
       "      <td>HLS</td>\n",
       "      <td>AllPub</td>\n",
       "      <td>...</td>\n",
       "      <td>0</td>\n",
       "      <td>NaN</td>\n",
       "      <td>NaN</td>\n",
       "      <td>NaN</td>\n",
       "      <td>0</td>\n",
       "      <td>1</td>\n",
       "      <td>2010</td>\n",
       "      <td>WD</td>\n",
       "      <td>Normal</td>\n",
       "      <td>150730.079977</td>\n",
       "    </tr>\n",
       "    <tr>\n",
       "      <th>...</th>\n",
       "      <td>...</td>\n",
       "      <td>...</td>\n",
       "      <td>...</td>\n",
       "      <td>...</td>\n",
       "      <td>...</td>\n",
       "      <td>...</td>\n",
       "      <td>...</td>\n",
       "      <td>...</td>\n",
       "      <td>...</td>\n",
       "      <td>...</td>\n",
       "      <td>...</td>\n",
       "      <td>...</td>\n",
       "      <td>...</td>\n",
       "      <td>...</td>\n",
       "      <td>...</td>\n",
       "      <td>...</td>\n",
       "      <td>...</td>\n",
       "      <td>...</td>\n",
       "      <td>...</td>\n",
       "      <td>...</td>\n",
       "      <td>...</td>\n",
       "    </tr>\n",
       "    <tr>\n",
       "      <th>1454</th>\n",
       "      <td>2915</td>\n",
       "      <td>160</td>\n",
       "      <td>RM</td>\n",
       "      <td>21.0</td>\n",
       "      <td>1936</td>\n",
       "      <td>Pave</td>\n",
       "      <td>NaN</td>\n",
       "      <td>Reg</td>\n",
       "      <td>Lvl</td>\n",
       "      <td>AllPub</td>\n",
       "      <td>...</td>\n",
       "      <td>0</td>\n",
       "      <td>NaN</td>\n",
       "      <td>NaN</td>\n",
       "      <td>NaN</td>\n",
       "      <td>0</td>\n",
       "      <td>6</td>\n",
       "      <td>2006</td>\n",
       "      <td>WD</td>\n",
       "      <td>Normal</td>\n",
       "      <td>167081.220949</td>\n",
       "    </tr>\n",
       "    <tr>\n",
       "      <th>1455</th>\n",
       "      <td>2916</td>\n",
       "      <td>160</td>\n",
       "      <td>RM</td>\n",
       "      <td>21.0</td>\n",
       "      <td>1894</td>\n",
       "      <td>Pave</td>\n",
       "      <td>NaN</td>\n",
       "      <td>Reg</td>\n",
       "      <td>Lvl</td>\n",
       "      <td>AllPub</td>\n",
       "      <td>...</td>\n",
       "      <td>0</td>\n",
       "      <td>NaN</td>\n",
       "      <td>NaN</td>\n",
       "      <td>NaN</td>\n",
       "      <td>0</td>\n",
       "      <td>4</td>\n",
       "      <td>2006</td>\n",
       "      <td>WD</td>\n",
       "      <td>Abnorml</td>\n",
       "      <td>164788.778231</td>\n",
       "    </tr>\n",
       "    <tr>\n",
       "      <th>1456</th>\n",
       "      <td>2917</td>\n",
       "      <td>20</td>\n",
       "      <td>RL</td>\n",
       "      <td>160.0</td>\n",
       "      <td>20000</td>\n",
       "      <td>Pave</td>\n",
       "      <td>NaN</td>\n",
       "      <td>Reg</td>\n",
       "      <td>Lvl</td>\n",
       "      <td>AllPub</td>\n",
       "      <td>...</td>\n",
       "      <td>0</td>\n",
       "      <td>NaN</td>\n",
       "      <td>NaN</td>\n",
       "      <td>NaN</td>\n",
       "      <td>0</td>\n",
       "      <td>9</td>\n",
       "      <td>2006</td>\n",
       "      <td>WD</td>\n",
       "      <td>Abnorml</td>\n",
       "      <td>219222.423400</td>\n",
       "    </tr>\n",
       "    <tr>\n",
       "      <th>1457</th>\n",
       "      <td>2918</td>\n",
       "      <td>85</td>\n",
       "      <td>RL</td>\n",
       "      <td>62.0</td>\n",
       "      <td>10441</td>\n",
       "      <td>Pave</td>\n",
       "      <td>NaN</td>\n",
       "      <td>Reg</td>\n",
       "      <td>Lvl</td>\n",
       "      <td>AllPub</td>\n",
       "      <td>...</td>\n",
       "      <td>0</td>\n",
       "      <td>NaN</td>\n",
       "      <td>MnPrv</td>\n",
       "      <td>Shed</td>\n",
       "      <td>700</td>\n",
       "      <td>7</td>\n",
       "      <td>2006</td>\n",
       "      <td>WD</td>\n",
       "      <td>Normal</td>\n",
       "      <td>184924.279659</td>\n",
       "    </tr>\n",
       "    <tr>\n",
       "      <th>1458</th>\n",
       "      <td>2919</td>\n",
       "      <td>60</td>\n",
       "      <td>RL</td>\n",
       "      <td>74.0</td>\n",
       "      <td>9627</td>\n",
       "      <td>Pave</td>\n",
       "      <td>NaN</td>\n",
       "      <td>Reg</td>\n",
       "      <td>Lvl</td>\n",
       "      <td>AllPub</td>\n",
       "      <td>...</td>\n",
       "      <td>0</td>\n",
       "      <td>NaN</td>\n",
       "      <td>NaN</td>\n",
       "      <td>NaN</td>\n",
       "      <td>0</td>\n",
       "      <td>11</td>\n",
       "      <td>2006</td>\n",
       "      <td>WD</td>\n",
       "      <td>Normal</td>\n",
       "      <td>187741.866657</td>\n",
       "    </tr>\n",
       "  </tbody>\n",
       "</table>\n",
       "<p>1459 rows × 81 columns</p>\n",
       "</div>"
      ],
      "text/plain": [
       "        Id  MSSubClass MSZoning  LotFrontage  LotArea Street Alley LotShape  \\\n",
       "0     1461          20       RH         80.0    11622   Pave   NaN      Reg   \n",
       "1     1462          20       RL         81.0    14267   Pave   NaN      IR1   \n",
       "2     1463          60       RL         74.0    13830   Pave   NaN      IR1   \n",
       "3     1464          60       RL         78.0     9978   Pave   NaN      IR1   \n",
       "4     1465         120       RL         43.0     5005   Pave   NaN      IR1   \n",
       "...    ...         ...      ...          ...      ...    ...   ...      ...   \n",
       "1454  2915         160       RM         21.0     1936   Pave   NaN      Reg   \n",
       "1455  2916         160       RM         21.0     1894   Pave   NaN      Reg   \n",
       "1456  2917          20       RL        160.0    20000   Pave   NaN      Reg   \n",
       "1457  2918          85       RL         62.0    10441   Pave   NaN      Reg   \n",
       "1458  2919          60       RL         74.0     9627   Pave   NaN      Reg   \n",
       "\n",
       "     LandContour Utilities  ... PoolArea PoolQC  Fence MiscFeature MiscVal  \\\n",
       "0            Lvl    AllPub  ...        0    NaN  MnPrv         NaN       0   \n",
       "1            Lvl    AllPub  ...        0    NaN    NaN        Gar2   12500   \n",
       "2            Lvl    AllPub  ...        0    NaN  MnPrv         NaN       0   \n",
       "3            Lvl    AllPub  ...        0    NaN    NaN         NaN       0   \n",
       "4            HLS    AllPub  ...        0    NaN    NaN         NaN       0   \n",
       "...          ...       ...  ...      ...    ...    ...         ...     ...   \n",
       "1454         Lvl    AllPub  ...        0    NaN    NaN         NaN       0   \n",
       "1455         Lvl    AllPub  ...        0    NaN    NaN         NaN       0   \n",
       "1456         Lvl    AllPub  ...        0    NaN    NaN         NaN       0   \n",
       "1457         Lvl    AllPub  ...        0    NaN  MnPrv        Shed     700   \n",
       "1458         Lvl    AllPub  ...        0    NaN    NaN         NaN       0   \n",
       "\n",
       "     MoSold YrSold  SaleType  SaleCondition      SalePrice  \n",
       "0         6   2010        WD         Normal  169277.052498  \n",
       "1         6   2010        WD         Normal  187758.393989  \n",
       "2         3   2010        WD         Normal  183583.683570  \n",
       "3         6   2010        WD         Normal  179317.477511  \n",
       "4         1   2010        WD         Normal  150730.079977  \n",
       "...     ...    ...       ...            ...            ...  \n",
       "1454      6   2006        WD         Normal  167081.220949  \n",
       "1455      4   2006        WD        Abnorml  164788.778231  \n",
       "1456      9   2006        WD        Abnorml  219222.423400  \n",
       "1457      7   2006        WD         Normal  184924.279659  \n",
       "1458     11   2006        WD         Normal  187741.866657  \n",
       "\n",
       "[1459 rows x 81 columns]"
      ]
     },
     "execution_count": 3,
     "metadata": {},
     "output_type": "execute_result"
    }
   ],
   "source": [
    "sample = pd.read_csv('../input/house-price-prediction/sample_submission.csv')\n",
    "test['SalePrice'] = sample['SalePrice']\n",
    "test"
   ]
  },
  {
   "cell_type": "markdown",
   "id": "d3909896",
   "metadata": {
    "papermill": {
     "duration": 0.02796,
     "end_time": "2022-02-28T16:44:36.892675",
     "exception": false,
     "start_time": "2022-02-28T16:44:36.864715",
     "status": "completed"
    },
    "tags": []
   },
   "source": [
    "**Separating input and output columns**"
   ]
  },
  {
   "cell_type": "code",
   "execution_count": 4,
   "id": "5eb708f3",
   "metadata": {
    "execution": {
     "iopub.execute_input": "2022-02-28T16:44:36.954751Z",
     "iopub.status.busy": "2022-02-28T16:44:36.953897Z",
     "iopub.status.idle": "2022-02-28T16:44:36.957466Z",
     "shell.execute_reply": "2022-02-28T16:44:36.957029Z",
     "shell.execute_reply.started": "2022-02-28T16:39:36.917685Z"
    },
    "papermill": {
     "duration": 0.036876,
     "end_time": "2022-02-28T16:44:36.957581",
     "exception": false,
     "start_time": "2022-02-28T16:44:36.920705",
     "status": "completed"
    },
    "tags": []
   },
   "outputs": [],
   "source": [
    "X = df.iloc[:,:-1]\n",
    "columns = X.columns\n",
    "Y = df.iloc[:,-1]\n",
    "X_test = test.iloc[:,:-1]\n",
    "Y_test = test.iloc[:,-1]"
   ]
  },
  {
   "cell_type": "code",
   "execution_count": 5,
   "id": "b04546f8",
   "metadata": {
    "execution": {
     "iopub.execute_input": "2022-02-28T16:44:37.019475Z",
     "iopub.status.busy": "2022-02-28T16:44:37.018868Z",
     "iopub.status.idle": "2022-02-28T16:44:37.032242Z",
     "shell.execute_reply": "2022-02-28T16:44:37.031479Z",
     "shell.execute_reply.started": "2022-02-28T16:39:39.853656Z"
    },
    "papermill": {
     "duration": 0.046637,
     "end_time": "2022-02-28T16:44:37.032353",
     "exception": false,
     "start_time": "2022-02-28T16:44:36.985716",
     "status": "completed"
    },
    "tags": []
   },
   "outputs": [],
   "source": [
    "X = X.append(X_test,ignore_index=True)\n",
    "Y = Y.append(Y_test,ignore_index=True)"
   ]
  },
  {
   "cell_type": "markdown",
   "id": "94375e69",
   "metadata": {
    "papermill": {
     "duration": 0.027897,
     "end_time": "2022-02-28T16:44:37.088134",
     "exception": false,
     "start_time": "2022-02-28T16:44:37.060237",
     "status": "completed"
    },
    "tags": []
   },
   "source": [
    "**Changing object dtype columns to str**"
   ]
  },
  {
   "cell_type": "code",
   "execution_count": 6,
   "id": "ad268599",
   "metadata": {
    "execution": {
     "iopub.execute_input": "2022-02-28T16:44:37.155140Z",
     "iopub.status.busy": "2022-02-28T16:44:37.154215Z",
     "iopub.status.idle": "2022-02-28T16:44:37.195564Z",
     "shell.execute_reply": "2022-02-28T16:44:37.195987Z",
     "shell.execute_reply.started": "2022-02-28T16:39:46.384361Z"
    },
    "papermill": {
     "duration": 0.079254,
     "end_time": "2022-02-28T16:44:37.196124",
     "exception": false,
     "start_time": "2022-02-28T16:44:37.116870",
     "status": "completed"
    },
    "tags": []
   },
   "outputs": [
    {
     "data": {
      "text/html": [
       "<div>\n",
       "<style scoped>\n",
       "    .dataframe tbody tr th:only-of-type {\n",
       "        vertical-align: middle;\n",
       "    }\n",
       "\n",
       "    .dataframe tbody tr th {\n",
       "        vertical-align: top;\n",
       "    }\n",
       "\n",
       "    .dataframe thead th {\n",
       "        text-align: right;\n",
       "    }\n",
       "</style>\n",
       "<table border=\"1\" class=\"dataframe\">\n",
       "  <thead>\n",
       "    <tr style=\"text-align: right;\">\n",
       "      <th></th>\n",
       "      <th>MSZoning</th>\n",
       "      <th>Street</th>\n",
       "      <th>Alley</th>\n",
       "      <th>LotShape</th>\n",
       "      <th>LandContour</th>\n",
       "      <th>Utilities</th>\n",
       "      <th>LotConfig</th>\n",
       "      <th>LandSlope</th>\n",
       "      <th>Neighborhood</th>\n",
       "      <th>Condition1</th>\n",
       "      <th>...</th>\n",
       "      <th>GarageType</th>\n",
       "      <th>GarageFinish</th>\n",
       "      <th>GarageQual</th>\n",
       "      <th>GarageCond</th>\n",
       "      <th>PavedDrive</th>\n",
       "      <th>PoolQC</th>\n",
       "      <th>Fence</th>\n",
       "      <th>MiscFeature</th>\n",
       "      <th>SaleType</th>\n",
       "      <th>SaleCondition</th>\n",
       "    </tr>\n",
       "  </thead>\n",
       "  <tbody>\n",
       "    <tr>\n",
       "      <th>0</th>\n",
       "      <td>RL</td>\n",
       "      <td>Pave</td>\n",
       "      <td>nan</td>\n",
       "      <td>Reg</td>\n",
       "      <td>Lvl</td>\n",
       "      <td>AllPub</td>\n",
       "      <td>Inside</td>\n",
       "      <td>Gtl</td>\n",
       "      <td>CollgCr</td>\n",
       "      <td>Norm</td>\n",
       "      <td>...</td>\n",
       "      <td>Attchd</td>\n",
       "      <td>RFn</td>\n",
       "      <td>TA</td>\n",
       "      <td>TA</td>\n",
       "      <td>Y</td>\n",
       "      <td>nan</td>\n",
       "      <td>nan</td>\n",
       "      <td>nan</td>\n",
       "      <td>WD</td>\n",
       "      <td>Normal</td>\n",
       "    </tr>\n",
       "    <tr>\n",
       "      <th>1</th>\n",
       "      <td>RL</td>\n",
       "      <td>Pave</td>\n",
       "      <td>nan</td>\n",
       "      <td>Reg</td>\n",
       "      <td>Lvl</td>\n",
       "      <td>AllPub</td>\n",
       "      <td>FR2</td>\n",
       "      <td>Gtl</td>\n",
       "      <td>Veenker</td>\n",
       "      <td>Feedr</td>\n",
       "      <td>...</td>\n",
       "      <td>Attchd</td>\n",
       "      <td>RFn</td>\n",
       "      <td>TA</td>\n",
       "      <td>TA</td>\n",
       "      <td>Y</td>\n",
       "      <td>nan</td>\n",
       "      <td>nan</td>\n",
       "      <td>nan</td>\n",
       "      <td>WD</td>\n",
       "      <td>Normal</td>\n",
       "    </tr>\n",
       "    <tr>\n",
       "      <th>2</th>\n",
       "      <td>RL</td>\n",
       "      <td>Pave</td>\n",
       "      <td>nan</td>\n",
       "      <td>IR1</td>\n",
       "      <td>Lvl</td>\n",
       "      <td>AllPub</td>\n",
       "      <td>Inside</td>\n",
       "      <td>Gtl</td>\n",
       "      <td>CollgCr</td>\n",
       "      <td>Norm</td>\n",
       "      <td>...</td>\n",
       "      <td>Attchd</td>\n",
       "      <td>RFn</td>\n",
       "      <td>TA</td>\n",
       "      <td>TA</td>\n",
       "      <td>Y</td>\n",
       "      <td>nan</td>\n",
       "      <td>nan</td>\n",
       "      <td>nan</td>\n",
       "      <td>WD</td>\n",
       "      <td>Normal</td>\n",
       "    </tr>\n",
       "    <tr>\n",
       "      <th>3</th>\n",
       "      <td>RL</td>\n",
       "      <td>Pave</td>\n",
       "      <td>nan</td>\n",
       "      <td>IR1</td>\n",
       "      <td>Lvl</td>\n",
       "      <td>AllPub</td>\n",
       "      <td>Corner</td>\n",
       "      <td>Gtl</td>\n",
       "      <td>Crawfor</td>\n",
       "      <td>Norm</td>\n",
       "      <td>...</td>\n",
       "      <td>Detchd</td>\n",
       "      <td>Unf</td>\n",
       "      <td>TA</td>\n",
       "      <td>TA</td>\n",
       "      <td>Y</td>\n",
       "      <td>nan</td>\n",
       "      <td>nan</td>\n",
       "      <td>nan</td>\n",
       "      <td>WD</td>\n",
       "      <td>Abnorml</td>\n",
       "    </tr>\n",
       "    <tr>\n",
       "      <th>4</th>\n",
       "      <td>RL</td>\n",
       "      <td>Pave</td>\n",
       "      <td>nan</td>\n",
       "      <td>IR1</td>\n",
       "      <td>Lvl</td>\n",
       "      <td>AllPub</td>\n",
       "      <td>FR2</td>\n",
       "      <td>Gtl</td>\n",
       "      <td>NoRidge</td>\n",
       "      <td>Norm</td>\n",
       "      <td>...</td>\n",
       "      <td>Attchd</td>\n",
       "      <td>RFn</td>\n",
       "      <td>TA</td>\n",
       "      <td>TA</td>\n",
       "      <td>Y</td>\n",
       "      <td>nan</td>\n",
       "      <td>nan</td>\n",
       "      <td>nan</td>\n",
       "      <td>WD</td>\n",
       "      <td>Normal</td>\n",
       "    </tr>\n",
       "    <tr>\n",
       "      <th>...</th>\n",
       "      <td>...</td>\n",
       "      <td>...</td>\n",
       "      <td>...</td>\n",
       "      <td>...</td>\n",
       "      <td>...</td>\n",
       "      <td>...</td>\n",
       "      <td>...</td>\n",
       "      <td>...</td>\n",
       "      <td>...</td>\n",
       "      <td>...</td>\n",
       "      <td>...</td>\n",
       "      <td>...</td>\n",
       "      <td>...</td>\n",
       "      <td>...</td>\n",
       "      <td>...</td>\n",
       "      <td>...</td>\n",
       "      <td>...</td>\n",
       "      <td>...</td>\n",
       "      <td>...</td>\n",
       "      <td>...</td>\n",
       "      <td>...</td>\n",
       "    </tr>\n",
       "    <tr>\n",
       "      <th>2914</th>\n",
       "      <td>RM</td>\n",
       "      <td>Pave</td>\n",
       "      <td>nan</td>\n",
       "      <td>Reg</td>\n",
       "      <td>Lvl</td>\n",
       "      <td>AllPub</td>\n",
       "      <td>Inside</td>\n",
       "      <td>Gtl</td>\n",
       "      <td>MeadowV</td>\n",
       "      <td>Norm</td>\n",
       "      <td>...</td>\n",
       "      <td>nan</td>\n",
       "      <td>nan</td>\n",
       "      <td>nan</td>\n",
       "      <td>nan</td>\n",
       "      <td>Y</td>\n",
       "      <td>nan</td>\n",
       "      <td>nan</td>\n",
       "      <td>nan</td>\n",
       "      <td>WD</td>\n",
       "      <td>Normal</td>\n",
       "    </tr>\n",
       "    <tr>\n",
       "      <th>2915</th>\n",
       "      <td>RM</td>\n",
       "      <td>Pave</td>\n",
       "      <td>nan</td>\n",
       "      <td>Reg</td>\n",
       "      <td>Lvl</td>\n",
       "      <td>AllPub</td>\n",
       "      <td>Inside</td>\n",
       "      <td>Gtl</td>\n",
       "      <td>MeadowV</td>\n",
       "      <td>Norm</td>\n",
       "      <td>...</td>\n",
       "      <td>CarPort</td>\n",
       "      <td>Unf</td>\n",
       "      <td>TA</td>\n",
       "      <td>TA</td>\n",
       "      <td>Y</td>\n",
       "      <td>nan</td>\n",
       "      <td>nan</td>\n",
       "      <td>nan</td>\n",
       "      <td>WD</td>\n",
       "      <td>Abnorml</td>\n",
       "    </tr>\n",
       "    <tr>\n",
       "      <th>2916</th>\n",
       "      <td>RL</td>\n",
       "      <td>Pave</td>\n",
       "      <td>nan</td>\n",
       "      <td>Reg</td>\n",
       "      <td>Lvl</td>\n",
       "      <td>AllPub</td>\n",
       "      <td>Inside</td>\n",
       "      <td>Gtl</td>\n",
       "      <td>Mitchel</td>\n",
       "      <td>Norm</td>\n",
       "      <td>...</td>\n",
       "      <td>Detchd</td>\n",
       "      <td>Unf</td>\n",
       "      <td>TA</td>\n",
       "      <td>TA</td>\n",
       "      <td>Y</td>\n",
       "      <td>nan</td>\n",
       "      <td>nan</td>\n",
       "      <td>nan</td>\n",
       "      <td>WD</td>\n",
       "      <td>Abnorml</td>\n",
       "    </tr>\n",
       "    <tr>\n",
       "      <th>2917</th>\n",
       "      <td>RL</td>\n",
       "      <td>Pave</td>\n",
       "      <td>nan</td>\n",
       "      <td>Reg</td>\n",
       "      <td>Lvl</td>\n",
       "      <td>AllPub</td>\n",
       "      <td>Inside</td>\n",
       "      <td>Gtl</td>\n",
       "      <td>Mitchel</td>\n",
       "      <td>Norm</td>\n",
       "      <td>...</td>\n",
       "      <td>nan</td>\n",
       "      <td>nan</td>\n",
       "      <td>nan</td>\n",
       "      <td>nan</td>\n",
       "      <td>Y</td>\n",
       "      <td>nan</td>\n",
       "      <td>MnPrv</td>\n",
       "      <td>Shed</td>\n",
       "      <td>WD</td>\n",
       "      <td>Normal</td>\n",
       "    </tr>\n",
       "    <tr>\n",
       "      <th>2918</th>\n",
       "      <td>RL</td>\n",
       "      <td>Pave</td>\n",
       "      <td>nan</td>\n",
       "      <td>Reg</td>\n",
       "      <td>Lvl</td>\n",
       "      <td>AllPub</td>\n",
       "      <td>Inside</td>\n",
       "      <td>Mod</td>\n",
       "      <td>Mitchel</td>\n",
       "      <td>Norm</td>\n",
       "      <td>...</td>\n",
       "      <td>Attchd</td>\n",
       "      <td>Fin</td>\n",
       "      <td>TA</td>\n",
       "      <td>TA</td>\n",
       "      <td>Y</td>\n",
       "      <td>nan</td>\n",
       "      <td>nan</td>\n",
       "      <td>nan</td>\n",
       "      <td>WD</td>\n",
       "      <td>Normal</td>\n",
       "    </tr>\n",
       "  </tbody>\n",
       "</table>\n",
       "<p>2919 rows × 43 columns</p>\n",
       "</div>"
      ],
      "text/plain": [
       "     MSZoning Street Alley LotShape LandContour Utilities LotConfig LandSlope  \\\n",
       "0          RL   Pave   nan      Reg         Lvl    AllPub    Inside       Gtl   \n",
       "1          RL   Pave   nan      Reg         Lvl    AllPub       FR2       Gtl   \n",
       "2          RL   Pave   nan      IR1         Lvl    AllPub    Inside       Gtl   \n",
       "3          RL   Pave   nan      IR1         Lvl    AllPub    Corner       Gtl   \n",
       "4          RL   Pave   nan      IR1         Lvl    AllPub       FR2       Gtl   \n",
       "...       ...    ...   ...      ...         ...       ...       ...       ...   \n",
       "2914       RM   Pave   nan      Reg         Lvl    AllPub    Inside       Gtl   \n",
       "2915       RM   Pave   nan      Reg         Lvl    AllPub    Inside       Gtl   \n",
       "2916       RL   Pave   nan      Reg         Lvl    AllPub    Inside       Gtl   \n",
       "2917       RL   Pave   nan      Reg         Lvl    AllPub    Inside       Gtl   \n",
       "2918       RL   Pave   nan      Reg         Lvl    AllPub    Inside       Mod   \n",
       "\n",
       "     Neighborhood Condition1  ... GarageType GarageFinish GarageQual  \\\n",
       "0         CollgCr       Norm  ...     Attchd          RFn         TA   \n",
       "1         Veenker      Feedr  ...     Attchd          RFn         TA   \n",
       "2         CollgCr       Norm  ...     Attchd          RFn         TA   \n",
       "3         Crawfor       Norm  ...     Detchd          Unf         TA   \n",
       "4         NoRidge       Norm  ...     Attchd          RFn         TA   \n",
       "...           ...        ...  ...        ...          ...        ...   \n",
       "2914      MeadowV       Norm  ...        nan          nan        nan   \n",
       "2915      MeadowV       Norm  ...    CarPort          Unf         TA   \n",
       "2916      Mitchel       Norm  ...     Detchd          Unf         TA   \n",
       "2917      Mitchel       Norm  ...        nan          nan        nan   \n",
       "2918      Mitchel       Norm  ...     Attchd          Fin         TA   \n",
       "\n",
       "     GarageCond PavedDrive PoolQC  Fence MiscFeature SaleType SaleCondition  \n",
       "0            TA          Y    nan    nan         nan       WD        Normal  \n",
       "1            TA          Y    nan    nan         nan       WD        Normal  \n",
       "2            TA          Y    nan    nan         nan       WD        Normal  \n",
       "3            TA          Y    nan    nan         nan       WD       Abnorml  \n",
       "4            TA          Y    nan    nan         nan       WD        Normal  \n",
       "...         ...        ...    ...    ...         ...      ...           ...  \n",
       "2914        nan          Y    nan    nan         nan       WD        Normal  \n",
       "2915         TA          Y    nan    nan         nan       WD       Abnorml  \n",
       "2916         TA          Y    nan    nan         nan       WD       Abnorml  \n",
       "2917        nan          Y    nan  MnPrv        Shed       WD        Normal  \n",
       "2918         TA          Y    nan    nan         nan       WD        Normal  \n",
       "\n",
       "[2919 rows x 43 columns]"
      ]
     },
     "execution_count": 6,
     "metadata": {},
     "output_type": "execute_result"
    }
   ],
   "source": [
    "from sklearn.preprocessing import LabelEncoder\n",
    "temp = X.select_dtypes(include = \"object\").columns\n",
    "temp = list(temp)\n",
    "X[temp].apply(lambda col: col.astype(str))"
   ]
  },
  {
   "cell_type": "markdown",
   "id": "523badf1",
   "metadata": {
    "papermill": {
     "duration": 0.028505,
     "end_time": "2022-02-28T16:44:37.253945",
     "exception": false,
     "start_time": "2022-02-28T16:44:37.225440",
     "status": "completed"
    },
    "tags": []
   },
   "source": [
    "**Label encoding all the columns**"
   ]
  },
  {
   "cell_type": "code",
   "execution_count": 7,
   "id": "6838d86b",
   "metadata": {
    "execution": {
     "iopub.execute_input": "2022-02-28T16:44:37.361038Z",
     "iopub.status.busy": "2022-02-28T16:44:37.359864Z",
     "iopub.status.idle": "2022-02-28T16:44:37.363565Z",
     "shell.execute_reply": "2022-02-28T16:44:37.363110Z",
     "shell.execute_reply.started": "2022-02-28T16:40:00.556171Z"
    },
    "papermill": {
     "duration": 0.08032,
     "end_time": "2022-02-28T16:44:37.363689",
     "exception": false,
     "start_time": "2022-02-28T16:44:37.283369",
     "status": "completed"
    },
    "tags": []
   },
   "outputs": [],
   "source": [
    "X_temp = X[temp].apply(lambda col: LabelEncoder().fit_transform(col.astype(str)), axis=0, result_type='expand')"
   ]
  },
  {
   "cell_type": "markdown",
   "id": "fa41d1e0",
   "metadata": {
    "papermill": {
     "duration": 0.02855,
     "end_time": "2022-02-28T16:44:37.421204",
     "exception": false,
     "start_time": "2022-02-28T16:44:37.392654",
     "status": "completed"
    },
    "tags": []
   },
   "source": [
    "**Appending the encoded columns in the final dataframe**"
   ]
  },
  {
   "cell_type": "code",
   "execution_count": 8,
   "id": "78059cd9",
   "metadata": {
    "execution": {
     "iopub.execute_input": "2022-02-28T16:44:37.485790Z",
     "iopub.status.busy": "2022-02-28T16:44:37.485145Z",
     "iopub.status.idle": "2022-02-28T16:44:37.488079Z",
     "shell.execute_reply": "2022-02-28T16:44:37.488487Z",
     "shell.execute_reply.started": "2022-02-28T16:40:12.617488Z"
    },
    "papermill": {
     "duration": 0.038809,
     "end_time": "2022-02-28T16:44:37.488621",
     "exception": false,
     "start_time": "2022-02-28T16:44:37.449812",
     "status": "completed"
    },
    "tags": []
   },
   "outputs": [],
   "source": [
    "X = X.drop(temp,axis=1)\n",
    "X = pd.concat([X,X_temp],axis=1)"
   ]
  },
  {
   "cell_type": "markdown",
   "id": "45ddb2e2",
   "metadata": {
    "papermill": {
     "duration": 0.028442,
     "end_time": "2022-02-28T16:44:37.545841",
     "exception": false,
     "start_time": "2022-02-28T16:44:37.517399",
     "status": "completed"
    },
    "tags": []
   },
   "source": [
    "**Replacing NAN with -1**"
   ]
  },
  {
   "cell_type": "code",
   "execution_count": 9,
   "id": "b70711d9",
   "metadata": {
    "execution": {
     "iopub.execute_input": "2022-02-28T16:44:37.608225Z",
     "iopub.status.busy": "2022-02-28T16:44:37.607351Z",
     "iopub.status.idle": "2022-02-28T16:44:37.613098Z",
     "shell.execute_reply": "2022-02-28T16:44:37.612676Z",
     "shell.execute_reply.started": "2022-02-28T16:40:19.393434Z"
    },
    "papermill": {
     "duration": 0.038475,
     "end_time": "2022-02-28T16:44:37.613235",
     "exception": false,
     "start_time": "2022-02-28T16:44:37.574760",
     "status": "completed"
    },
    "tags": []
   },
   "outputs": [],
   "source": [
    "X = X.replace(np.nan,-1)"
   ]
  },
  {
   "cell_type": "code",
   "execution_count": 10,
   "id": "cf9704fb",
   "metadata": {
    "execution": {
     "iopub.execute_input": "2022-02-28T16:44:37.694324Z",
     "iopub.status.busy": "2022-02-28T16:44:37.686622Z",
     "iopub.status.idle": "2022-02-28T16:44:37.697929Z",
     "shell.execute_reply": "2022-02-28T16:44:37.697196Z",
     "shell.execute_reply.started": "2022-02-28T16:40:21.264877Z"
    },
    "papermill": {
     "duration": 0.056192,
     "end_time": "2022-02-28T16:44:37.698041",
     "exception": false,
     "start_time": "2022-02-28T16:44:37.641849",
     "status": "completed"
    },
    "tags": []
   },
   "outputs": [
    {
     "data": {
      "text/html": [
       "<div>\n",
       "<style scoped>\n",
       "    .dataframe tbody tr th:only-of-type {\n",
       "        vertical-align: middle;\n",
       "    }\n",
       "\n",
       "    .dataframe tbody tr th {\n",
       "        vertical-align: top;\n",
       "    }\n",
       "\n",
       "    .dataframe thead th {\n",
       "        text-align: right;\n",
       "    }\n",
       "</style>\n",
       "<table border=\"1\" class=\"dataframe\">\n",
       "  <thead>\n",
       "    <tr style=\"text-align: right;\">\n",
       "      <th></th>\n",
       "      <th>Id</th>\n",
       "      <th>MSSubClass</th>\n",
       "      <th>LotFrontage</th>\n",
       "      <th>LotArea</th>\n",
       "      <th>OverallQual</th>\n",
       "      <th>OverallCond</th>\n",
       "      <th>YearBuilt</th>\n",
       "      <th>YearRemodAdd</th>\n",
       "      <th>MasVnrArea</th>\n",
       "      <th>BsmtFinSF1</th>\n",
       "      <th>...</th>\n",
       "      <th>GarageType</th>\n",
       "      <th>GarageFinish</th>\n",
       "      <th>GarageQual</th>\n",
       "      <th>GarageCond</th>\n",
       "      <th>PavedDrive</th>\n",
       "      <th>PoolQC</th>\n",
       "      <th>Fence</th>\n",
       "      <th>MiscFeature</th>\n",
       "      <th>SaleType</th>\n",
       "      <th>SaleCondition</th>\n",
       "    </tr>\n",
       "  </thead>\n",
       "  <tbody>\n",
       "    <tr>\n",
       "      <th>0</th>\n",
       "      <td>1</td>\n",
       "      <td>60</td>\n",
       "      <td>65.0</td>\n",
       "      <td>8450</td>\n",
       "      <td>7</td>\n",
       "      <td>5</td>\n",
       "      <td>2003</td>\n",
       "      <td>2003</td>\n",
       "      <td>196.0</td>\n",
       "      <td>706.0</td>\n",
       "      <td>...</td>\n",
       "      <td>1</td>\n",
       "      <td>1</td>\n",
       "      <td>4</td>\n",
       "      <td>4</td>\n",
       "      <td>2</td>\n",
       "      <td>3</td>\n",
       "      <td>4</td>\n",
       "      <td>4</td>\n",
       "      <td>8</td>\n",
       "      <td>4</td>\n",
       "    </tr>\n",
       "    <tr>\n",
       "      <th>1</th>\n",
       "      <td>2</td>\n",
       "      <td>20</td>\n",
       "      <td>80.0</td>\n",
       "      <td>9600</td>\n",
       "      <td>6</td>\n",
       "      <td>8</td>\n",
       "      <td>1976</td>\n",
       "      <td>1976</td>\n",
       "      <td>0.0</td>\n",
       "      <td>978.0</td>\n",
       "      <td>...</td>\n",
       "      <td>1</td>\n",
       "      <td>1</td>\n",
       "      <td>4</td>\n",
       "      <td>4</td>\n",
       "      <td>2</td>\n",
       "      <td>3</td>\n",
       "      <td>4</td>\n",
       "      <td>4</td>\n",
       "      <td>8</td>\n",
       "      <td>4</td>\n",
       "    </tr>\n",
       "    <tr>\n",
       "      <th>2</th>\n",
       "      <td>3</td>\n",
       "      <td>60</td>\n",
       "      <td>68.0</td>\n",
       "      <td>11250</td>\n",
       "      <td>7</td>\n",
       "      <td>5</td>\n",
       "      <td>2001</td>\n",
       "      <td>2002</td>\n",
       "      <td>162.0</td>\n",
       "      <td>486.0</td>\n",
       "      <td>...</td>\n",
       "      <td>1</td>\n",
       "      <td>1</td>\n",
       "      <td>4</td>\n",
       "      <td>4</td>\n",
       "      <td>2</td>\n",
       "      <td>3</td>\n",
       "      <td>4</td>\n",
       "      <td>4</td>\n",
       "      <td>8</td>\n",
       "      <td>4</td>\n",
       "    </tr>\n",
       "    <tr>\n",
       "      <th>3</th>\n",
       "      <td>4</td>\n",
       "      <td>70</td>\n",
       "      <td>60.0</td>\n",
       "      <td>9550</td>\n",
       "      <td>7</td>\n",
       "      <td>5</td>\n",
       "      <td>1915</td>\n",
       "      <td>1970</td>\n",
       "      <td>0.0</td>\n",
       "      <td>216.0</td>\n",
       "      <td>...</td>\n",
       "      <td>5</td>\n",
       "      <td>2</td>\n",
       "      <td>4</td>\n",
       "      <td>4</td>\n",
       "      <td>2</td>\n",
       "      <td>3</td>\n",
       "      <td>4</td>\n",
       "      <td>4</td>\n",
       "      <td>8</td>\n",
       "      <td>0</td>\n",
       "    </tr>\n",
       "    <tr>\n",
       "      <th>4</th>\n",
       "      <td>5</td>\n",
       "      <td>60</td>\n",
       "      <td>84.0</td>\n",
       "      <td>14260</td>\n",
       "      <td>8</td>\n",
       "      <td>5</td>\n",
       "      <td>2000</td>\n",
       "      <td>2000</td>\n",
       "      <td>350.0</td>\n",
       "      <td>655.0</td>\n",
       "      <td>...</td>\n",
       "      <td>1</td>\n",
       "      <td>1</td>\n",
       "      <td>4</td>\n",
       "      <td>4</td>\n",
       "      <td>2</td>\n",
       "      <td>3</td>\n",
       "      <td>4</td>\n",
       "      <td>4</td>\n",
       "      <td>8</td>\n",
       "      <td>4</td>\n",
       "    </tr>\n",
       "    <tr>\n",
       "      <th>...</th>\n",
       "      <td>...</td>\n",
       "      <td>...</td>\n",
       "      <td>...</td>\n",
       "      <td>...</td>\n",
       "      <td>...</td>\n",
       "      <td>...</td>\n",
       "      <td>...</td>\n",
       "      <td>...</td>\n",
       "      <td>...</td>\n",
       "      <td>...</td>\n",
       "      <td>...</td>\n",
       "      <td>...</td>\n",
       "      <td>...</td>\n",
       "      <td>...</td>\n",
       "      <td>...</td>\n",
       "      <td>...</td>\n",
       "      <td>...</td>\n",
       "      <td>...</td>\n",
       "      <td>...</td>\n",
       "      <td>...</td>\n",
       "      <td>...</td>\n",
       "    </tr>\n",
       "    <tr>\n",
       "      <th>2914</th>\n",
       "      <td>2915</td>\n",
       "      <td>160</td>\n",
       "      <td>21.0</td>\n",
       "      <td>1936</td>\n",
       "      <td>4</td>\n",
       "      <td>7</td>\n",
       "      <td>1970</td>\n",
       "      <td>1970</td>\n",
       "      <td>0.0</td>\n",
       "      <td>0.0</td>\n",
       "      <td>...</td>\n",
       "      <td>6</td>\n",
       "      <td>3</td>\n",
       "      <td>5</td>\n",
       "      <td>5</td>\n",
       "      <td>2</td>\n",
       "      <td>3</td>\n",
       "      <td>4</td>\n",
       "      <td>4</td>\n",
       "      <td>8</td>\n",
       "      <td>4</td>\n",
       "    </tr>\n",
       "    <tr>\n",
       "      <th>2915</th>\n",
       "      <td>2916</td>\n",
       "      <td>160</td>\n",
       "      <td>21.0</td>\n",
       "      <td>1894</td>\n",
       "      <td>4</td>\n",
       "      <td>5</td>\n",
       "      <td>1970</td>\n",
       "      <td>1970</td>\n",
       "      <td>0.0</td>\n",
       "      <td>252.0</td>\n",
       "      <td>...</td>\n",
       "      <td>4</td>\n",
       "      <td>2</td>\n",
       "      <td>4</td>\n",
       "      <td>4</td>\n",
       "      <td>2</td>\n",
       "      <td>3</td>\n",
       "      <td>4</td>\n",
       "      <td>4</td>\n",
       "      <td>8</td>\n",
       "      <td>0</td>\n",
       "    </tr>\n",
       "    <tr>\n",
       "      <th>2916</th>\n",
       "      <td>2917</td>\n",
       "      <td>20</td>\n",
       "      <td>160.0</td>\n",
       "      <td>20000</td>\n",
       "      <td>5</td>\n",
       "      <td>7</td>\n",
       "      <td>1960</td>\n",
       "      <td>1996</td>\n",
       "      <td>0.0</td>\n",
       "      <td>1224.0</td>\n",
       "      <td>...</td>\n",
       "      <td>5</td>\n",
       "      <td>2</td>\n",
       "      <td>4</td>\n",
       "      <td>4</td>\n",
       "      <td>2</td>\n",
       "      <td>3</td>\n",
       "      <td>4</td>\n",
       "      <td>4</td>\n",
       "      <td>8</td>\n",
       "      <td>0</td>\n",
       "    </tr>\n",
       "    <tr>\n",
       "      <th>2917</th>\n",
       "      <td>2918</td>\n",
       "      <td>85</td>\n",
       "      <td>62.0</td>\n",
       "      <td>10441</td>\n",
       "      <td>5</td>\n",
       "      <td>5</td>\n",
       "      <td>1992</td>\n",
       "      <td>1992</td>\n",
       "      <td>0.0</td>\n",
       "      <td>337.0</td>\n",
       "      <td>...</td>\n",
       "      <td>6</td>\n",
       "      <td>3</td>\n",
       "      <td>5</td>\n",
       "      <td>5</td>\n",
       "      <td>2</td>\n",
       "      <td>3</td>\n",
       "      <td>2</td>\n",
       "      <td>2</td>\n",
       "      <td>8</td>\n",
       "      <td>4</td>\n",
       "    </tr>\n",
       "    <tr>\n",
       "      <th>2918</th>\n",
       "      <td>2919</td>\n",
       "      <td>60</td>\n",
       "      <td>74.0</td>\n",
       "      <td>9627</td>\n",
       "      <td>7</td>\n",
       "      <td>5</td>\n",
       "      <td>1993</td>\n",
       "      <td>1994</td>\n",
       "      <td>94.0</td>\n",
       "      <td>758.0</td>\n",
       "      <td>...</td>\n",
       "      <td>1</td>\n",
       "      <td>0</td>\n",
       "      <td>4</td>\n",
       "      <td>4</td>\n",
       "      <td>2</td>\n",
       "      <td>3</td>\n",
       "      <td>4</td>\n",
       "      <td>4</td>\n",
       "      <td>8</td>\n",
       "      <td>4</td>\n",
       "    </tr>\n",
       "  </tbody>\n",
       "</table>\n",
       "<p>2919 rows × 80 columns</p>\n",
       "</div>"
      ],
      "text/plain": [
       "        Id  MSSubClass  LotFrontage  LotArea  OverallQual  OverallCond  \\\n",
       "0        1          60         65.0     8450            7            5   \n",
       "1        2          20         80.0     9600            6            8   \n",
       "2        3          60         68.0    11250            7            5   \n",
       "3        4          70         60.0     9550            7            5   \n",
       "4        5          60         84.0    14260            8            5   \n",
       "...    ...         ...          ...      ...          ...          ...   \n",
       "2914  2915         160         21.0     1936            4            7   \n",
       "2915  2916         160         21.0     1894            4            5   \n",
       "2916  2917          20        160.0    20000            5            7   \n",
       "2917  2918          85         62.0    10441            5            5   \n",
       "2918  2919          60         74.0     9627            7            5   \n",
       "\n",
       "      YearBuilt  YearRemodAdd  MasVnrArea  BsmtFinSF1  ...  GarageType  \\\n",
       "0          2003          2003       196.0       706.0  ...           1   \n",
       "1          1976          1976         0.0       978.0  ...           1   \n",
       "2          2001          2002       162.0       486.0  ...           1   \n",
       "3          1915          1970         0.0       216.0  ...           5   \n",
       "4          2000          2000       350.0       655.0  ...           1   \n",
       "...         ...           ...         ...         ...  ...         ...   \n",
       "2914       1970          1970         0.0         0.0  ...           6   \n",
       "2915       1970          1970         0.0       252.0  ...           4   \n",
       "2916       1960          1996         0.0      1224.0  ...           5   \n",
       "2917       1992          1992         0.0       337.0  ...           6   \n",
       "2918       1993          1994        94.0       758.0  ...           1   \n",
       "\n",
       "      GarageFinish  GarageQual  GarageCond  PavedDrive  PoolQC  Fence  \\\n",
       "0                1           4           4           2       3      4   \n",
       "1                1           4           4           2       3      4   \n",
       "2                1           4           4           2       3      4   \n",
       "3                2           4           4           2       3      4   \n",
       "4                1           4           4           2       3      4   \n",
       "...            ...         ...         ...         ...     ...    ...   \n",
       "2914             3           5           5           2       3      4   \n",
       "2915             2           4           4           2       3      4   \n",
       "2916             2           4           4           2       3      4   \n",
       "2917             3           5           5           2       3      2   \n",
       "2918             0           4           4           2       3      4   \n",
       "\n",
       "      MiscFeature  SaleType  SaleCondition  \n",
       "0               4         8              4  \n",
       "1               4         8              4  \n",
       "2               4         8              4  \n",
       "3               4         8              0  \n",
       "4               4         8              4  \n",
       "...           ...       ...            ...  \n",
       "2914            4         8              4  \n",
       "2915            4         8              0  \n",
       "2916            4         8              0  \n",
       "2917            2         8              4  \n",
       "2918            4         8              4  \n",
       "\n",
       "[2919 rows x 80 columns]"
      ]
     },
     "execution_count": 10,
     "metadata": {},
     "output_type": "execute_result"
    }
   ],
   "source": [
    "X"
   ]
  },
  {
   "cell_type": "markdown",
   "id": "daacafe9",
   "metadata": {
    "papermill": {
     "duration": 0.031736,
     "end_time": "2022-02-28T16:44:37.760397",
     "exception": false,
     "start_time": "2022-02-28T16:44:37.728661",
     "status": "completed"
    },
    "tags": []
   },
   "source": [
    "**Importance of individual features**"
   ]
  },
  {
   "cell_type": "code",
   "execution_count": 11,
   "id": "9c81388d",
   "metadata": {
    "execution": {
     "iopub.execute_input": "2022-02-28T16:44:37.836034Z",
     "iopub.status.busy": "2022-02-28T16:44:37.835003Z",
     "iopub.status.idle": "2022-02-28T16:45:00.693204Z",
     "shell.execute_reply": "2022-02-28T16:45:00.692526Z",
     "shell.execute_reply.started": "2022-02-28T16:40:29.915895Z"
    },
    "papermill": {
     "duration": 22.90176,
     "end_time": "2022-02-28T16:45:00.693367",
     "exception": false,
     "start_time": "2022-02-28T16:44:37.791607",
     "status": "completed"
    },
    "tags": []
   },
   "outputs": [
    {
     "name": "stdout",
     "output_type": "stream",
     "text": [
      "Id 0.22991074615771145\n",
      "MSSubClass 0.0023493252966800293\n",
      "MSZoning 0.005256268873276976\n",
      "LotFrontage 0.026607155306896498\n",
      "LotArea 0.1968873706025367\n",
      "Street 0.004577478968354897\n",
      "Alley 0.019385233130277648\n",
      "LotShape 0.008678283861415658\n",
      "LandContour 0.006250542362170578\n",
      "Utilities 0.023049353255175757\n",
      "LotConfig 0.0007652983293047446\n",
      "LandSlope 0.005208770518729589\n",
      "Neighborhood 0.050305792528018665\n",
      "Condition1 0.019475380661888513\n",
      "Condition2 0.03741570379960811\n",
      "BldgType 0.00011290143433605866\n",
      "HouseStyle 0.2034694116870928\n",
      "OverallQual 0.0009584861943700962\n",
      "OverallCond 0.00017913122939619525\n",
      "YearBuilt 0.0014714377076434065\n",
      "YearRemodAdd 0.000977846958452327\n",
      "RoofStyle 0.018497140140006668\n",
      "RoofMatl 0.0005643930801093664\n",
      "Exterior1st 0.005606704149036078\n",
      "Exterior2nd 0.0015572083042593567\n",
      "MasVnrType 0.006836473857201373\n",
      "MasVnrArea 0.03085094275136659\n",
      "ExterQual 0.0166659460134735\n",
      "ExterCond 0.004480089853023571\n",
      "Foundation 0.004132739089691941\n",
      "BsmtQual 0.000674437018193656\n",
      "BsmtCond 0.0006969237768977195\n",
      "BsmtExposure 0.001241755357821051\n",
      "BsmtFinType1 0.0002392581452419005\n",
      "BsmtFinSF1 9.459761654977748e-05\n",
      "BsmtFinType2 0.004633467697914487\n",
      "BsmtFinSF2 0.001623625435900915\n",
      "BsmtUnfSF 0.002020414878345661\n",
      "TotalBsmtSF 9.82044662151434e-06\n",
      "Heating 0.00035086000006872783\n",
      "HeatingQC 0.0009346079179095675\n",
      "CentralAir 0.0014324835337445618\n",
      "Electrical 9.171238232685914e-07\n",
      "1stFlrSF 0.0008725635855027033\n",
      "2ndFlrSF 0.0005999304220475393\n",
      "LowQualFinSF 0.006881452097333366\n",
      "GrLivArea 0.0005938065469569023\n",
      "BsmtFullBath 0.0002583727936959735\n",
      "BsmtHalfBath 0.000476920173919078\n",
      "FullBath 0.0008117399235870224\n",
      "HalfBath 0.0007210237285594413\n",
      "BedroomAbvGr 0.00038645412224909745\n",
      "KitchenAbvGr 0.0016285866036675545\n",
      "KitchenQual 0.0014981338454609489\n",
      "TotRmsAbvGrd 0.001086817187044672\n",
      "Functional 0.0039249734032624365\n",
      "Fireplaces 0.00043506048760091697\n",
      "FireplaceQu 0.000590642298197172\n",
      "GarageType 0.005899277421015854\n",
      "GarageYrBlt 0.0002698162598474273\n",
      "GarageFinish 0.0018299897942651649\n",
      "GarageCars 0.0018432279088049488\n",
      "GarageArea 0.0004153919897876937\n",
      "GarageQual 9.652618405955803e-05\n",
      "GarageCond 0.0007875327112263881\n",
      "PavedDrive 0.0035452273576696094\n",
      "WoodDeckSF 0.00016177666850487066\n",
      "OpenPorchSF 0.00411201548484554\n",
      "EnclosedPorch 0.0007332466848075691\n",
      "3SsnPorch 0.0019976436650559737\n",
      "ScreenPorch 0.0030747671779808067\n",
      "PoolArea 0.0043494523314994045\n",
      "PoolQC 0.00020520143072761895\n",
      "Fence 0.00014907678033805252\n",
      "MiscFeature 0.0003243930602034951\n",
      "MiscVal 0.00024491908314853696\n",
      "MoSold 0.00040931434388916403\n",
      "YrSold 3.20690137538214e-05\n",
      "SaleType 0.0008662765507449071\n",
      "SaleCondition 0.001449655828200952\n"
     ]
    },
    {
     "name": "stderr",
     "output_type": "stream",
     "text": [
      "/opt/conda/lib/python3.7/site-packages/ipykernel_launcher.py:12: FutureWarning: In a future version of pandas all arguments of DataFrame.drop except for the argument 'labels' will be keyword-only\n",
      "  if sys.path[0] == '':\n"
     ]
    }
   ],
   "source": [
    "from sklearn.ensemble import RandomForestRegressor\n",
    "rnd_clf = RandomForestRegressor(n_estimators=500)\n",
    "rnd_clf.fit(X,Y)\n",
    "importance_dict = {}\n",
    "for j in X.columns:\n",
    "    importance_dict[j]=0\n",
    "for name,score in zip(columns,rnd_clf.feature_importances_):\n",
    "    importance_dict[name]=importance_dict[name]+score\n",
    "    print(name,score)\n",
    "for k in X.columns:\n",
    "    if(importance_dict[k]<0.0008):\n",
    "        X=X.drop([k],1)"
   ]
  },
  {
   "cell_type": "markdown",
   "id": "38dacb84",
   "metadata": {
    "papermill": {
     "duration": 0.029936,
     "end_time": "2022-02-28T16:45:00.754667",
     "exception": false,
     "start_time": "2022-02-28T16:45:00.724731",
     "status": "completed"
    },
    "tags": []
   },
   "source": [
    "**Plotting the feature importances**"
   ]
  },
  {
   "cell_type": "code",
   "execution_count": 12,
   "id": "fafbdcd1",
   "metadata": {
    "execution": {
     "iopub.execute_input": "2022-02-28T16:45:00.820544Z",
     "iopub.status.busy": "2022-02-28T16:45:00.819727Z",
     "iopub.status.idle": "2022-02-28T16:45:02.388047Z",
     "shell.execute_reply": "2022-02-28T16:45:02.388486Z",
     "shell.execute_reply.started": "2022-02-28T16:41:08.253807Z"
    },
    "papermill": {
     "duration": 1.603942,
     "end_time": "2022-02-28T16:45:02.388634",
     "exception": false,
     "start_time": "2022-02-28T16:45:00.784692",
     "status": "completed"
    },
    "tags": []
   },
   "outputs": [
    {
     "data": {
      "text/plain": [
       "<BarContainer object of 80 artists>"
      ]
     },
     "execution_count": 12,
     "metadata": {},
     "output_type": "execute_result"
    },
    {
     "data": {
      "image/png": "[encoded data removed]",
      "text/plain": [
       "<Figure size 1440x1440 with 1 Axes>"
      ]
     },
     "metadata": {
      "needs_background": "light"
     },
     "output_type": "display_data"
    }
   ],
   "source": [
    "sorted_idx = rnd_clf.feature_importances_.argsort()\n",
    "import matplotlib.pyplot as plt\n",
    "plt.figure(figsize=(20, 20))\n",
    "plt.barh(columns[sorted_idx],rnd_clf.feature_importances_[sorted_idx])\n"
   ]
  },
  {
   "cell_type": "markdown",
   "id": "a997c5de",
   "metadata": {
    "papermill": {
     "duration": 0.032678,
     "end_time": "2022-02-28T16:45:02.454535",
     "exception": false,
     "start_time": "2022-02-28T16:45:02.421857",
     "status": "completed"
    },
    "tags": []
   },
   "source": [
    "**Training testing split**"
   ]
  },
  {
   "cell_type": "code",
   "execution_count": 13,
   "id": "d60bf30c",
   "metadata": {
    "execution": {
     "iopub.execute_input": "2022-02-28T16:45:02.526414Z",
     "iopub.status.busy": "2022-02-28T16:45:02.525597Z",
     "iopub.status.idle": "2022-02-28T16:45:02.530467Z",
     "shell.execute_reply": "2022-02-28T16:45:02.530019Z",
     "shell.execute_reply.started": "2022-02-28T16:41:36.524728Z"
    },
    "papermill": {
     "duration": 0.043088,
     "end_time": "2022-02-28T16:45:02.530587",
     "exception": false,
     "start_time": "2022-02-28T16:45:02.487499",
     "status": "completed"
    },
    "tags": []
   },
   "outputs": [],
   "source": [
    "from sklearn.model_selection import train_test_split\n",
    "X,X_test,Y,Y_test = train_test_split(X,Y,test_size=0.2,random_state=0)"
   ]
  },
  {
   "cell_type": "code",
   "execution_count": 14,
   "id": "13566dd2",
   "metadata": {
    "execution": {
     "iopub.execute_input": "2022-02-28T16:45:02.601367Z",
     "iopub.status.busy": "2022-02-28T16:45:02.600749Z",
     "iopub.status.idle": "2022-02-28T16:45:02.603345Z",
     "shell.execute_reply": "2022-02-28T16:45:02.603778Z",
     "shell.execute_reply.started": "2022-02-28T16:41:37.886327Z"
    },
    "papermill": {
     "duration": 0.040621,
     "end_time": "2022-02-28T16:45:02.603906",
     "exception": false,
     "start_time": "2022-02-28T16:45:02.563285",
     "status": "completed"
    },
    "tags": []
   },
   "outputs": [
    {
     "data": {
      "text/plain": [
       "49"
      ]
     },
     "execution_count": 14,
     "metadata": {},
     "output_type": "execute_result"
    }
   ],
   "source": [
    "columns=X.columns\n",
    "len(columns)"
   ]
  },
  {
   "cell_type": "markdown",
   "id": "0b039a3a",
   "metadata": {
    "papermill": {
     "duration": 0.033345,
     "end_time": "2022-02-28T16:45:02.670164",
     "exception": false,
     "start_time": "2022-02-28T16:45:02.636819",
     "status": "completed"
    },
    "tags": []
   },
   "source": [
    "**Scaling the input features**"
   ]
  },
  {
   "cell_type": "code",
   "execution_count": 15,
   "id": "7395e6ea",
   "metadata": {
    "execution": {
     "iopub.execute_input": "2022-02-28T16:45:06.090158Z",
     "iopub.status.busy": "2022-02-28T16:45:06.088495Z",
     "iopub.status.idle": "2022-02-28T16:45:14.724994Z",
     "shell.execute_reply": "2022-02-28T16:45:14.723982Z",
     "shell.execute_reply.started": "2022-02-28T16:41:45.955125Z"
    },
    "papermill": {
     "duration": 12.021887,
     "end_time": "2022-02-28T16:45:14.725158",
     "exception": false,
     "start_time": "2022-02-28T16:45:02.703271",
     "status": "completed"
    },
    "tags": []
   },
   "outputs": [],
   "source": [
    "from cuml.preprocessing import StandardScaler\n",
    "for i in columns :\n",
    "    scaler = StandardScaler()\n",
    "    X[i] = scaler.fit_transform(X[i].values.reshape(-1,1))\n",
    "    X_test[i] = scaler.transform(X_test[i].values.reshape(-1,1))"
   ]
  },
  {
   "cell_type": "markdown",
   "id": "c4361889",
   "metadata": {
    "papermill": {
     "duration": 0.036983,
     "end_time": "2022-02-28T16:45:14.799988",
     "exception": false,
     "start_time": "2022-02-28T16:45:14.763005",
     "status": "completed"
    },
    "tags": []
   },
   "source": [
    "**Dropping the id column**"
   ]
  },
  {
   "cell_type": "code",
   "execution_count": 16,
   "id": "c9b86f40",
   "metadata": {
    "execution": {
     "iopub.execute_input": "2022-02-28T16:45:14.882294Z",
     "iopub.status.busy": "2022-02-28T16:45:14.881415Z",
     "iopub.status.idle": "2022-02-28T16:45:14.884066Z",
     "shell.execute_reply": "2022-02-28T16:45:14.883609Z",
     "shell.execute_reply.started": "2022-02-28T16:41:59.941635Z"
    },
    "papermill": {
     "duration": 0.047291,
     "end_time": "2022-02-28T16:45:14.884199",
     "exception": false,
     "start_time": "2022-02-28T16:45:14.836908",
     "status": "completed"
    },
    "tags": []
   },
   "outputs": [],
   "source": [
    "X = X.iloc[:,1:]\n",
    "X_test = X_test.iloc[:,1:]"
   ]
  },
  {
   "cell_type": "markdown",
   "id": "6af45928",
   "metadata": {
    "papermill": {
     "duration": 0.034829,
     "end_time": "2022-02-28T16:45:14.955575",
     "exception": false,
     "start_time": "2022-02-28T16:45:14.920746",
     "status": "completed"
    },
    "tags": []
   },
   "source": [
    "**Scaling the output features**"
   ]
  },
  {
   "cell_type": "code",
   "execution_count": 17,
   "id": "15bb33e0",
   "metadata": {
    "execution": {
     "iopub.execute_input": "2022-02-28T16:45:15.032985Z",
     "iopub.status.busy": "2022-02-28T16:45:15.031999Z",
     "iopub.status.idle": "2022-02-28T16:45:15.041420Z",
     "shell.execute_reply": "2022-02-28T16:45:15.041016Z",
     "shell.execute_reply.started": "2022-02-28T16:42:08.036313Z"
    },
    "papermill": {
     "duration": 0.050377,
     "end_time": "2022-02-28T16:45:15.041561",
     "exception": false,
     "start_time": "2022-02-28T16:45:14.991184",
     "status": "completed"
    },
    "tags": []
   },
   "outputs": [],
   "source": [
    "scaler = StandardScaler()\n",
    "Y = scaler.fit_transform(Y.values.reshape(-1,1))\n",
    "Y_test = scaler.transform(Y_test.values.reshape(-1,1))"
   ]
  },
  {
   "cell_type": "markdown",
   "id": "7594f2f8",
   "metadata": {
    "papermill": {
     "duration": 0.034328,
     "end_time": "2022-02-28T16:45:15.110979",
     "exception": false,
     "start_time": "2022-02-28T16:45:15.076651",
     "status": "completed"
    },
    "tags": []
   },
   "source": [
    "**Linear Regression**"
   ]
  },
  {
   "cell_type": "code",
   "execution_count": 18,
   "id": "cff6b0d8",
   "metadata": {
    "execution": {
     "iopub.execute_input": "2022-02-28T16:45:15.182970Z",
     "iopub.status.busy": "2022-02-28T16:45:15.182409Z",
     "iopub.status.idle": "2022-02-28T16:45:18.479367Z",
     "shell.execute_reply": "2022-02-28T16:45:18.479966Z",
     "shell.execute_reply.started": "2022-02-28T16:42:15.762412Z"
    },
    "papermill": {
     "duration": 3.336333,
     "end_time": "2022-02-28T16:45:18.480158",
     "exception": false,
     "start_time": "2022-02-28T16:45:15.143825",
     "status": "completed"
    },
    "tags": []
   },
   "outputs": [
    {
     "name": "stdout",
     "output_type": "stream",
     "text": [
      "1.2043519054211407 0.8132178744708258 0.44421671669874985\n"
     ]
    }
   ],
   "source": [
    "from cuml import LinearRegression\n",
    "from cuml.linear_model import LinearRegression\n",
    "X_new = cd.DataFrame(X)\n",
    "Y_new = cd.DataFrame(Y)\n",
    "lr = LinearRegression(fit_intercept = False,algorithm = \"svd\")\n",
    "reg = lr.fit(X_new,Y_new)\n",
    "preds = lr.predict(X_test)\n",
    "from cuml.metrics import mean_squared_error\n",
    "from cuml.metrics import mean_absolute_error\n",
    "from cuml.metrics import r2_score\n",
    "MSE = mean_squared_error(Y_test,preds)\n",
    "MAE = mean_absolute_error(Y_test,preds)\n",
    "R2 = r2_score(Y_test,preds)\n",
    "print(MSE,MAE,R2)"
   ]
  },
  {
   "cell_type": "markdown",
   "id": "aa0fbd79",
   "metadata": {
    "papermill": {
     "duration": 0.033419,
     "end_time": "2022-02-28T16:45:18.548593",
     "exception": false,
     "start_time": "2022-02-28T16:45:18.515174",
     "status": "completed"
    },
    "tags": []
   },
   "source": [
    "**Logistic Regression**"
   ]
  },
  {
   "cell_type": "code",
   "execution_count": 19,
   "id": "77e8dae2",
   "metadata": {
    "execution": {
     "iopub.execute_input": "2022-02-28T16:45:18.621148Z",
     "iopub.status.busy": "2022-02-28T16:45:18.620628Z",
     "iopub.status.idle": "2022-02-28T16:45:19.642490Z",
     "shell.execute_reply": "2022-02-28T16:45:19.643078Z",
     "shell.execute_reply.started": "2022-02-28T16:42:26.436670Z"
    },
    "papermill": {
     "duration": 1.061367,
     "end_time": "2022-02-28T16:45:19.643274",
     "exception": false,
     "start_time": "2022-02-28T16:45:18.581907",
     "status": "completed"
    },
    "tags": []
   },
   "outputs": [
    {
     "name": "stdout",
     "output_type": "stream",
     "text": [
      "[W] [16:45:19.628247] L-BFGS stopped, because the line search failed to advance (step delta = 0.000000)\n",
      "0.7575460208875798 0.5640392590625964 -0.0010559335664261926\n"
     ]
    }
   ],
   "source": [
    "from cuml.linear_model import LogisticRegression\n",
    "reg = LogisticRegression()\n",
    "reg.fit(X,Y)\n",
    "preds = reg.predict(X_test)\n",
    "from cuml.metrics import mean_squared_error\n",
    "from cuml.metrics import mean_absolute_error\n",
    "from cuml.metrics import r2_score\n",
    "MSE = mean_squared_error(Y_test,preds)\n",
    "MAE = mean_absolute_error(Y_test,preds)\n",
    "R2 = r2_score(Y_test,preds)\n",
    "print(MSE,MAE,R2)"
   ]
  },
  {
   "cell_type": "markdown",
   "id": "651e9a4b",
   "metadata": {
    "papermill": {
     "duration": 0.033503,
     "end_time": "2022-02-28T16:45:19.712688",
     "exception": false,
     "start_time": "2022-02-28T16:45:19.679185",
     "status": "completed"
    },
    "tags": []
   },
   "source": [
    "**Ridge Regression**"
   ]
  },
  {
   "cell_type": "code",
   "execution_count": 20,
   "id": "12f43185",
   "metadata": {
    "execution": {
     "iopub.execute_input": "2022-02-28T16:45:19.795470Z",
     "iopub.status.busy": "2022-02-28T16:45:19.793752Z",
     "iopub.status.idle": "2022-02-28T16:45:19.830560Z",
     "shell.execute_reply": "2022-02-28T16:45:19.831225Z",
     "shell.execute_reply.started": "2022-02-28T16:42:33.091453Z"
    },
    "papermill": {
     "duration": 0.084556,
     "end_time": "2022-02-28T16:45:19.831417",
     "exception": false,
     "start_time": "2022-02-28T16:45:19.746861",
     "status": "completed"
    },
    "tags": []
   },
   "outputs": [
    {
     "name": "stdout",
     "output_type": "stream",
     "text": [
      "1.204278451485035 0.8131897865641019 0.4442312578198866\n"
     ]
    }
   ],
   "source": [
    "from cuml import Ridge\n",
    "from cuml.linear_model import Ridge\n",
    "ridge = Ridge(alpha=0.5,fit_intercept = True, normalize = False,solver = \"svd\")\n",
    "result_ridge = ridge.fit(X, Y)\n",
    "preds = result_ridge.predict(X_test)\n",
    "from cuml.metrics import mean_squared_error\n",
    "from cuml.metrics import mean_absolute_error\n",
    "from cuml.metrics import r2_score\n",
    "MSE = mean_squared_error(Y_test,preds)\n",
    "MAE = mean_absolute_error(Y_test,preds)\n",
    "R2 = r2_score(Y_test,preds)\n",
    "print(MSE,MAE,R2)"
   ]
  },
  {
   "cell_type": "markdown",
   "id": "8c01ee03",
   "metadata": {
    "papermill": {
     "duration": 0.038696,
     "end_time": "2022-02-28T16:45:19.909741",
     "exception": false,
     "start_time": "2022-02-28T16:45:19.871045",
     "status": "completed"
    },
    "tags": []
   },
   "source": [
    "**Lasso Regression**"
   ]
  },
  {
   "cell_type": "code",
   "execution_count": 21,
   "id": "ce194aab",
   "metadata": {
    "execution": {
     "iopub.execute_input": "2022-02-28T16:45:19.992844Z",
     "iopub.status.busy": "2022-02-28T16:45:19.992094Z",
     "iopub.status.idle": "2022-02-28T16:45:20.036430Z",
     "shell.execute_reply": "2022-02-28T16:45:20.037032Z",
     "shell.execute_reply.started": "2022-02-28T16:42:40.314594Z"
    },
    "papermill": {
     "duration": 0.088986,
     "end_time": "2022-02-28T16:45:20.037204",
     "exception": false,
     "start_time": "2022-02-28T16:45:19.948218",
     "status": "completed"
    },
    "tags": []
   },
   "outputs": [
    {
     "name": "stdout",
     "output_type": "stream",
     "text": [
      "1.1033564264149953 0.7732185211234651 0.4409704482589675\n"
     ]
    }
   ],
   "source": [
    "from cuml.linear_model import Lasso\n",
    "ls = Lasso(alpha = 0.05)\n",
    "result_lasso = ls.fit(X, Y)\n",
    "preds = result_lasso.predict(X_test)\n",
    "from cuml.metrics import mean_squared_error\n",
    "from cuml.metrics import mean_absolute_error\n",
    "from cuml.metrics import r2_score\n",
    "MSE = mean_squared_error(Y_test,preds)\n",
    "MAE = mean_absolute_error(Y_test,preds)\n",
    "R2 = r2_score(Y_test,preds)\n",
    "print(MSE,MAE,R2)"
   ]
  },
  {
   "cell_type": "markdown",
   "id": "2da4ad80",
   "metadata": {
    "papermill": {
     "duration": 0.03446,
     "end_time": "2022-02-28T16:45:20.106943",
     "exception": false,
     "start_time": "2022-02-28T16:45:20.072483",
     "status": "completed"
    },
    "tags": []
   },
   "source": [
    "**ElasticNet Regression**"
   ]
  },
  {
   "cell_type": "code",
   "execution_count": 22,
   "id": "5a4c22b2",
   "metadata": {
    "execution": {
     "iopub.execute_input": "2022-02-28T16:45:20.245857Z",
     "iopub.status.busy": "2022-02-28T16:45:20.245009Z",
     "iopub.status.idle": "2022-02-28T16:45:20.320795Z",
     "shell.execute_reply": "2022-02-28T16:45:20.322048Z",
     "shell.execute_reply.started": "2022-02-28T16:42:45.245851Z"
    },
    "papermill": {
     "duration": 0.152844,
     "end_time": "2022-02-28T16:45:20.322261",
     "exception": false,
     "start_time": "2022-02-28T16:45:20.169417",
     "status": "completed"
    },
    "tags": []
   },
   "outputs": [
    {
     "name": "stdout",
     "output_type": "stream",
     "text": [
      "1.0853425040502884 0.7649848687136256 0.4430779749659095\n"
     ]
    }
   ],
   "source": [
    "from cuml.linear_model import ElasticNet\n",
    "enet = ElasticNet(alpha = 0.3, l1_ratio=0.1)\n",
    "result_enet = enet.fit(X, Y)\n",
    "preds = result_enet.predict(X_test)\n",
    "from cuml.metrics import mean_squared_error\n",
    "from cuml.metrics import mean_absolute_error\n",
    "from cuml.metrics import r2_score\n",
    "MSE = mean_squared_error(Y_test,preds)\n",
    "MAE = mean_absolute_error(Y_test,preds)\n",
    "R2 = r2_score(Y_test,preds)\n",
    "print(MSE,MAE,R2)"
   ]
  }
 ],
 "metadata": {
  "kernelspec": {
   "display_name": "Python 3",
   "language": "python",
   "name": "python3"
  },
  "language_info": {
   "codemirror_mode": {
    "name": "ipython",
    "version": 3
   },
   "file_extension": ".py",
   "mimetype": "text/x-python",
   "name": "python",
   "nbconvert_exporter": "python",
   "pygments_lexer": "ipython3",
   "version": "3.7.12"
  },
  "papermill": {
   "default_parameters": {},
   "duration": 56.95572,
   "end_time": "2022-02-28T16:45:21.812279",
   "environment_variables": {},
   "exception": null,
   "input_path": "__notebook__.ipynb",
   "output_path": "__notebook__.ipynb",
   "parameters": {},
   "start_time": "2022-02-28T16:44:24.856559",
   "version": "2.3.3"
  }
 },
 "nbformat": 4,
 "nbformat_minor": 5
}
